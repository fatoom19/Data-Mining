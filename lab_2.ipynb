{
 "cells": [
  {
   "cell_type": "code",
   "execution_count": 1,
   "id": "serial-neighbor",
   "metadata": {},
   "outputs": [],
   "source": [
    "import pandas as pd\n",
    "import numpy as np"
   ]
  },
  {
   "cell_type": "code",
   "execution_count": 2,
   "id": "portable-ridge",
   "metadata": {},
   "outputs": [],
   "source": [
    "df = pd.read_csv('thyroid.csv')"
   ]
  },
  {
   "cell_type": "code",
   "execution_count": 3,
   "id": "difficult-visiting",
   "metadata": {},
   "outputs": [
    {
     "data": {
      "text/plain": [
       "(9172, 30)"
      ]
     },
     "execution_count": 3,
     "metadata": {},
     "output_type": "execute_result"
    }
   ],
   "source": [
    "df.shape"
   ]
  },
  {
   "cell_type": "code",
   "execution_count": 4,
   "id": "induced-laundry",
   "metadata": {},
   "outputs": [
    {
     "data": {
      "text/html": [
       "<div>\n",
       "<style scoped>\n",
       "    .dataframe tbody tr th:only-of-type {\n",
       "        vertical-align: middle;\n",
       "    }\n",
       "\n",
       "    .dataframe tbody tr th {\n",
       "        vertical-align: top;\n",
       "    }\n",
       "\n",
       "    .dataframe thead th {\n",
       "        text-align: right;\n",
       "    }\n",
       "</style>\n",
       "<table border=\"1\" class=\"dataframe\">\n",
       "  <thead>\n",
       "    <tr style=\"text-align: right;\">\n",
       "      <th></th>\n",
       "      <th>age</th>\n",
       "      <th>sex</th>\n",
       "      <th>on thyroxine</th>\n",
       "      <th>query on thyroxine</th>\n",
       "      <th>on antithyroid medication</th>\n",
       "      <th>sick</th>\n",
       "      <th>pregnant</th>\n",
       "      <th>thyroid surgery</th>\n",
       "      <th>I131 treatment</th>\n",
       "      <th>query hypothyroid</th>\n",
       "      <th>...</th>\n",
       "      <th>TT4 measured</th>\n",
       "      <th>TT4</th>\n",
       "      <th>T4U measured</th>\n",
       "      <th>T4U</th>\n",
       "      <th>FTI measured</th>\n",
       "      <th>FTI</th>\n",
       "      <th>TBG measured</th>\n",
       "      <th>TBG</th>\n",
       "      <th>referral source</th>\n",
       "      <th>y</th>\n",
       "    </tr>\n",
       "  </thead>\n",
       "  <tbody>\n",
       "    <tr>\n",
       "      <th>0</th>\n",
       "      <td>29</td>\n",
       "      <td>F</td>\n",
       "      <td>f</td>\n",
       "      <td>f</td>\n",
       "      <td>f</td>\n",
       "      <td>f</td>\n",
       "      <td>f</td>\n",
       "      <td>f</td>\n",
       "      <td>f</td>\n",
       "      <td>t</td>\n",
       "      <td>...</td>\n",
       "      <td>f</td>\n",
       "      <td>?</td>\n",
       "      <td>f</td>\n",
       "      <td>?</td>\n",
       "      <td>f</td>\n",
       "      <td>?</td>\n",
       "      <td>f</td>\n",
       "      <td>?</td>\n",
       "      <td>other</td>\n",
       "      <td>0</td>\n",
       "    </tr>\n",
       "    <tr>\n",
       "      <th>1</th>\n",
       "      <td>29</td>\n",
       "      <td>F</td>\n",
       "      <td>f</td>\n",
       "      <td>f</td>\n",
       "      <td>f</td>\n",
       "      <td>f</td>\n",
       "      <td>f</td>\n",
       "      <td>f</td>\n",
       "      <td>f</td>\n",
       "      <td>f</td>\n",
       "      <td>...</td>\n",
       "      <td>t</td>\n",
       "      <td>128</td>\n",
       "      <td>f</td>\n",
       "      <td>?</td>\n",
       "      <td>f</td>\n",
       "      <td>?</td>\n",
       "      <td>f</td>\n",
       "      <td>?</td>\n",
       "      <td>other</td>\n",
       "      <td>0</td>\n",
       "    </tr>\n",
       "    <tr>\n",
       "      <th>2</th>\n",
       "      <td>41</td>\n",
       "      <td>F</td>\n",
       "      <td>f</td>\n",
       "      <td>f</td>\n",
       "      <td>f</td>\n",
       "      <td>f</td>\n",
       "      <td>f</td>\n",
       "      <td>f</td>\n",
       "      <td>f</td>\n",
       "      <td>f</td>\n",
       "      <td>...</td>\n",
       "      <td>f</td>\n",
       "      <td>?</td>\n",
       "      <td>f</td>\n",
       "      <td>?</td>\n",
       "      <td>f</td>\n",
       "      <td>?</td>\n",
       "      <td>t</td>\n",
       "      <td>11</td>\n",
       "      <td>other</td>\n",
       "      <td>0</td>\n",
       "    </tr>\n",
       "    <tr>\n",
       "      <th>3</th>\n",
       "      <td>36</td>\n",
       "      <td>F</td>\n",
       "      <td>f</td>\n",
       "      <td>f</td>\n",
       "      <td>f</td>\n",
       "      <td>f</td>\n",
       "      <td>f</td>\n",
       "      <td>f</td>\n",
       "      <td>f</td>\n",
       "      <td>f</td>\n",
       "      <td>...</td>\n",
       "      <td>f</td>\n",
       "      <td>?</td>\n",
       "      <td>f</td>\n",
       "      <td>?</td>\n",
       "      <td>f</td>\n",
       "      <td>?</td>\n",
       "      <td>t</td>\n",
       "      <td>26</td>\n",
       "      <td>other</td>\n",
       "      <td>0</td>\n",
       "    </tr>\n",
       "    <tr>\n",
       "      <th>4</th>\n",
       "      <td>32</td>\n",
       "      <td>F</td>\n",
       "      <td>f</td>\n",
       "      <td>f</td>\n",
       "      <td>f</td>\n",
       "      <td>f</td>\n",
       "      <td>f</td>\n",
       "      <td>f</td>\n",
       "      <td>f</td>\n",
       "      <td>f</td>\n",
       "      <td>...</td>\n",
       "      <td>f</td>\n",
       "      <td>?</td>\n",
       "      <td>f</td>\n",
       "      <td>?</td>\n",
       "      <td>f</td>\n",
       "      <td>?</td>\n",
       "      <td>t</td>\n",
       "      <td>36</td>\n",
       "      <td>other</td>\n",
       "      <td>1</td>\n",
       "    </tr>\n",
       "  </tbody>\n",
       "</table>\n",
       "<p>5 rows × 30 columns</p>\n",
       "</div>"
      ],
      "text/plain": [
       "   age sex on thyroxine query on thyroxine on antithyroid medication sick  \\\n",
       "0   29   F            f                  f                         f    f   \n",
       "1   29   F            f                  f                         f    f   \n",
       "2   41   F            f                  f                         f    f   \n",
       "3   36   F            f                  f                         f    f   \n",
       "4   32   F            f                  f                         f    f   \n",
       "\n",
       "  pregnant thyroid surgery I131 treatment query hypothyroid  ... TT4 measured  \\\n",
       "0        f               f              f                 t  ...            f   \n",
       "1        f               f              f                 f  ...            t   \n",
       "2        f               f              f                 f  ...            f   \n",
       "3        f               f              f                 f  ...            f   \n",
       "4        f               f              f                 f  ...            f   \n",
       "\n",
       "   TT4 T4U measured T4U FTI measured FTI TBG measured TBG referral source  y  \n",
       "0    ?            f   ?            f   ?            f   ?           other  0  \n",
       "1  128            f   ?            f   ?            f   ?           other  0  \n",
       "2    ?            f   ?            f   ?            t  11           other  0  \n",
       "3    ?            f   ?            f   ?            t  26           other  0  \n",
       "4    ?            f   ?            f   ?            t  36           other  1  \n",
       "\n",
       "[5 rows x 30 columns]"
      ]
     },
     "execution_count": 4,
     "metadata": {},
     "output_type": "execute_result"
    }
   ],
   "source": [
    "df.head()"
   ]
  },
  {
   "cell_type": "markdown",
   "id": "loved-essex",
   "metadata": {},
   "source": [
    "# q4:\n",
    "What percentage of instances in this data frame has value 1 in the column ``y``? Enter the answer as a value between 0 and 100, and two digits after the decimal point and without the percent sign."
   ]
  },
  {
   "cell_type": "code",
   "execution_count": 5,
   "id": "brazilian-affiliate",
   "metadata": {},
   "outputs": [
    {
     "data": {
      "text/plain": [
       "0    73.822503\n",
       "1    26.177497\n",
       "Name: y, dtype: float64"
      ]
     },
     "execution_count": 5,
     "metadata": {},
     "output_type": "execute_result"
    }
   ],
   "source": [
    "df['y'].value_counts(normalize=True) * 100"
   ]
  },
  {
   "cell_type": "markdown",
   "id": "fifty-science",
   "metadata": {},
   "source": [
    "# q5"
   ]
  },
  {
   "cell_type": "code",
   "execution_count": 6,
   "id": "electrical-place",
   "metadata": {},
   "outputs": [
    {
     "data": {
      "text/plain": [
       "F    66.212386\n",
       "M    30.440471\n",
       "?     3.347143\n",
       "Name: sex, dtype: float64"
      ]
     },
     "execution_count": 6,
     "metadata": {},
     "output_type": "execute_result"
    }
   ],
   "source": [
    "df['sex'].value_counts(normalize=True) * 100"
   ]
  },
  {
   "cell_type": "markdown",
   "id": "atmospheric-genesis",
   "metadata": {},
   "source": [
    "# q6\n",
    "What is the average age of all patients in this data frame? Enter the answer with two digits after the decimal point.\n"
   ]
  },
  {
   "cell_type": "code",
   "execution_count": 7,
   "id": "first-satin",
   "metadata": {},
   "outputs": [
    {
     "data": {
      "text/plain": [
       "73.55582206716092"
      ]
     },
     "execution_count": 7,
     "metadata": {},
     "output_type": "execute_result"
    }
   ],
   "source": [
    "import numpy as np\n",
    "np.mean(df['age'])"
   ]
  },
  {
   "cell_type": "markdown",
   "id": "curious-mexico",
   "metadata": {},
   "source": [
    "# q7\n",
    "How many unique values are in the column referral source?"
   ]
  },
  {
   "cell_type": "code",
   "execution_count": 8,
   "id": "brutal-slave",
   "metadata": {},
   "outputs": [
    {
     "data": {
      "text/plain": [
       "6"
      ]
     },
     "execution_count": 8,
     "metadata": {},
     "output_type": "execute_result"
    }
   ],
   "source": [
    "df['referral source'].nunique()"
   ]
  },
  {
   "cell_type": "markdown",
   "id": "spread-aruba",
   "metadata": {},
   "source": [
    "# q8\n",
    "Which class in the column referral source has the highest frequency?"
   ]
  },
  {
   "cell_type": "code",
   "execution_count": 9,
   "id": "operating-elder",
   "metadata": {},
   "outputs": [
    {
     "data": {
      "text/plain": [
       "0    other\n",
       "dtype: object"
      ]
     },
     "execution_count": 9,
     "metadata": {},
     "output_type": "execute_result"
    }
   ],
   "source": [
    "df['referral source'].mode()"
   ]
  },
  {
   "cell_type": "markdown",
   "id": "black-drawing",
   "metadata": {},
   "source": [
    "# q9\n",
    "Now, replace all the sentinel values with np.nan. What percentage of all cells is marked with np.nan? Enter the answer as a value between 0 and 100, and two digits after the decimal point and without the percent sign."
   ]
  },
  {
   "cell_type": "code",
   "execution_count": 10,
   "id": "german-blood",
   "metadata": {},
   "outputs": [],
   "source": [
    "df= df.replace('?', np.nan )"
   ]
  },
  {
   "cell_type": "code",
   "execution_count": 11,
   "id": "pleased-haiti",
   "metadata": {},
   "outputs": [
    {
     "data": {
      "text/plain": [
       "5.316543102195086"
      ]
     },
     "execution_count": 11,
     "metadata": {},
     "output_type": "execute_result"
    }
   ],
   "source": [
    "df.isnull().sum().sum()/ df.size *100"
   ]
  },
  {
   "cell_type": "markdown",
   "id": "unlike-biography",
   "metadata": {},
   "source": [
    "# q10\n",
    "#What percentage of the rows in this data frame have at least one attribute flagged as a missing value. cEnter the answer as a value between 0 and 100, and two digits after the decimal point and without the percent sign."
   ]
  },
  {
   "cell_type": "code",
   "execution_count": 12,
   "id": "forward-value",
   "metadata": {},
   "outputs": [
    {
     "data": {
      "text/plain": [
       "99.78194505015264"
      ]
     },
     "execution_count": 12,
     "metadata": {},
     "output_type": "execute_result"
    }
   ],
   "source": [
    "#10\n",
    "sum([True for idx,row in df.iterrows() if any(row.isnull())])/len(df)*100"
   ]
  },
  {
   "cell_type": "code",
   "execution_count": 13,
   "id": "american-chart",
   "metadata": {},
   "outputs": [
    {
     "data": {
      "text/plain": [
       "1.594962930658526"
      ]
     },
     "execution_count": 13,
     "metadata": {},
     "output_type": "execute_result"
    }
   ],
   "source": [
    "#11\n",
    "df.isna().sum().sum()/len(df)"
   ]
  },
  {
   "cell_type": "code",
   "execution_count": 14,
   "id": "declared-glory",
   "metadata": {},
   "outputs": [
    {
     "data": {
      "text/plain": [
       "0    F\n",
       "dtype: object"
      ]
     },
     "execution_count": 14,
     "metadata": {},
     "output_type": "execute_result"
    }
   ],
   "source": [
    "#12\n",
    "df['sex'].mode()"
   ]
  },
  {
   "cell_type": "code",
   "execution_count": 15,
   "id": "veterinary-destination",
   "metadata": {},
   "outputs": [],
   "source": [
    "df['sex'] = df['sex'].replace(np.nan, 'F')"
   ]
  },
  {
   "cell_type": "code",
   "execution_count": 16,
   "id": "artificial-vacuum",
   "metadata": {},
   "outputs": [
    {
     "data": {
      "text/plain": [
       "0"
      ]
     },
     "execution_count": 16,
     "metadata": {},
     "output_type": "execute_result"
    }
   ],
   "source": [
    "df['sex'].isnull().sum()"
   ]
  },
  {
   "cell_type": "code",
   "execution_count": 17,
   "id": "devoted-interpretation",
   "metadata": {},
   "outputs": [],
   "source": [
    "df['sex'] = df['sex'].replace('F', 1)\n",
    "df['sex'] = df['sex'].replace('M', 0)"
   ]
  },
  {
   "cell_type": "code",
   "execution_count": 18,
   "id": "expanded-literacy",
   "metadata": {},
   "outputs": [
    {
     "data": {
      "text/plain": [
       "0.6955952900130833"
      ]
     },
     "execution_count": 18,
     "metadata": {},
     "output_type": "execute_result"
    }
   ],
   "source": [
    "df['sex'].mean()"
   ]
  },
  {
   "cell_type": "code",
   "execution_count": 19,
   "id": "egyptian-foundation",
   "metadata": {},
   "outputs": [],
   "source": [
    "#13"
   ]
  },
  {
   "cell_type": "code",
   "execution_count": 20,
   "id": "distributed-secretariat",
   "metadata": {},
   "outputs": [
    {
     "data": {
      "text/plain": [
       "array(['f', 't'], dtype=object)"
      ]
     },
     "execution_count": 20,
     "metadata": {},
     "output_type": "execute_result"
    }
   ],
   "source": [
    "df['query on thyroxine'].unique()"
   ]
  },
  {
   "cell_type": "code",
   "execution_count": 21,
   "id": "banner-patch",
   "metadata": {},
   "outputs": [],
   "source": [
    "#14\n",
    "df= df.drop( ['query on thyroxine','on thyroxine'], axis=1)"
   ]
  },
  {
   "cell_type": "code",
   "execution_count": 22,
   "id": "constitutional-distribution",
   "metadata": {},
   "outputs": [
    {
     "data": {
      "text/plain": [
       "(9172, 28)"
      ]
     },
     "execution_count": 22,
     "metadata": {},
     "output_type": "execute_result"
    }
   ],
   "source": [
    "df.shape"
   ]
  },
  {
   "cell_type": "markdown",
   "id": "turkish-cooling",
   "metadata": {},
   "source": [
    "#15\n",
    "Apply a proper data transformation on the columns 'on antithyroid medication' and 'sick' to transform them into numerical columns. Then use a correlation function np.corrcoef to find the linear correlation coefficient of these two columns. You can read about this function here[https://numpy.org/doc/stable/reference/generated/numpy.corrcoef.html]. Enter the correlation coefficient with two digits after the decimal point."
   ]
  },
  {
   "cell_type": "code",
   "execution_count": 23,
   "id": "stupid-policy",
   "metadata": {},
   "outputs": [
    {
     "data": {
      "text/plain": [
       "f    8828\n",
       "t     344\n",
       "Name: sick, dtype: int64"
      ]
     },
     "execution_count": 23,
     "metadata": {},
     "output_type": "execute_result"
    }
   ],
   "source": [
    "df['sick'].value_counts()"
   ]
  },
  {
   "cell_type": "code",
   "execution_count": 24,
   "id": "indie-ministry",
   "metadata": {},
   "outputs": [
    {
     "data": {
      "text/plain": [
       "1"
      ]
     },
     "execution_count": 24,
     "metadata": {},
     "output_type": "execute_result"
    }
   ],
   "source": [
    "df['sick'] = df['sick'].replace('f', 1)\n",
    "df['sick'] = df['sick'].replace('t', 0)\n",
    "df['sick'].max()"
   ]
  },
  {
   "cell_type": "code",
   "execution_count": 25,
   "id": "informational-hopkins",
   "metadata": {},
   "outputs": [
    {
     "data": {
      "text/plain": [
       "1    8828\n",
       "0     344\n",
       "Name: sick, dtype: int64"
      ]
     },
     "execution_count": 25,
     "metadata": {},
     "output_type": "execute_result"
    }
   ],
   "source": [
    "df['sick'].value_counts()"
   ]
  },
  {
   "cell_type": "code",
   "execution_count": 26,
   "id": "placed-pencil",
   "metadata": {},
   "outputs": [
    {
     "data": {
      "text/plain": [
       "f    9056\n",
       "t     116\n",
       "Name: on antithyroid medication, dtype: int64"
      ]
     },
     "execution_count": 26,
     "metadata": {},
     "output_type": "execute_result"
    }
   ],
   "source": [
    "df['on antithyroid medication'].value_counts()"
   ]
  },
  {
   "cell_type": "code",
   "execution_count": 27,
   "id": "ranging-projector",
   "metadata": {},
   "outputs": [],
   "source": [
    "df['on antithyroid medication'] = df['on antithyroid medication'].replace('f', 1)\n",
    "df['on antithyroid medication'] = df['on antithyroid medication'].replace('t', 0)"
   ]
  },
  {
   "cell_type": "code",
   "execution_count": 28,
   "id": "recorded-implementation",
   "metadata": {},
   "outputs": [
    {
     "data": {
      "text/plain": [
       "array([[ 1.        , -0.02234132],\n",
       "       [-0.02234132,  1.        ]])"
      ]
     },
     "execution_count": 28,
     "metadata": {},
     "output_type": "execute_result"
    }
   ],
   "source": [
    "x=df['on antithyroid medication'] \n",
    "y=df['sick']\n",
    "np.corrcoef(x,y)"
   ]
  },
  {
   "cell_type": "code",
   "execution_count": 29,
   "id": "personalized-logan",
   "metadata": {},
   "outputs": [],
   "source": [
    "#16"
   ]
  },
  {
   "cell_type": "code",
   "execution_count": 30,
   "id": "instant-baptist",
   "metadata": {},
   "outputs": [
    {
     "data": {
      "text/plain": [
       "f    9003\n",
       "t     169\n",
       "Name: I131 treatment, dtype: int64"
      ]
     },
     "execution_count": 30,
     "metadata": {},
     "output_type": "execute_result"
    }
   ],
   "source": [
    "#16\n",
    "df['I131 treatment'].value_counts()"
   ]
  },
  {
   "cell_type": "code",
   "execution_count": 31,
   "id": "caroline-victoria",
   "metadata": {},
   "outputs": [],
   "source": [
    "df['I131 treatment'] = df['I131 treatment'].replace('f', 1)\n",
    "df['I131 treatment'] = df['I131 treatment'].replace('t', 0)"
   ]
  },
  {
   "cell_type": "code",
   "execution_count": 32,
   "id": "elementary-library",
   "metadata": {},
   "outputs": [],
   "source": [
    "#17"
   ]
  },
  {
   "cell_type": "code",
   "execution_count": 33,
   "id": "variable-astronomy",
   "metadata": {},
   "outputs": [
    {
     "data": {
      "text/plain": [
       "f    9038\n",
       "t     134\n",
       "Name: thyroid surgery, dtype: int64"
      ]
     },
     "execution_count": 33,
     "metadata": {},
     "output_type": "execute_result"
    }
   ],
   "source": [
    "#17\n",
    "df['thyroid surgery'].value_counts()"
   ]
  },
  {
   "cell_type": "code",
   "execution_count": 34,
   "id": "compound-termination",
   "metadata": {},
   "outputs": [],
   "source": [
    "df['thyroid surgery'] = df['thyroid surgery'].replace('f', 1)\n",
    "df['thyroid surgery'] = df['thyroid surgery'].replace('t', 0)"
   ]
  },
  {
   "cell_type": "code",
   "execution_count": 35,
   "id": "coated-award",
   "metadata": {},
   "outputs": [],
   "source": [
    "#18"
   ]
  },
  {
   "cell_type": "code",
   "execution_count": 36,
   "id": "twelve-fourth",
   "metadata": {},
   "outputs": [
    {
     "data": {
      "text/plain": [
       "f    9065\n",
       "t     107\n",
       "Name: pregnant, dtype: int64"
      ]
     },
     "execution_count": 36,
     "metadata": {},
     "output_type": "execute_result"
    }
   ],
   "source": [
    "#18\n",
    "df['pregnant'].value_counts()"
   ]
  },
  {
   "cell_type": "code",
   "execution_count": 37,
   "id": "distinct-gabriel",
   "metadata": {},
   "outputs": [],
   "source": [
    "df['pregnant'] = df['pregnant'].replace('f', 1)\n",
    "df['pregnant'] = df['pregnant'].replace('t', 0)"
   ]
  },
  {
   "cell_type": "code",
   "execution_count": 38,
   "id": "ecological-enzyme",
   "metadata": {},
   "outputs": [],
   "source": [
    "#19"
   ]
  },
  {
   "cell_type": "code",
   "execution_count": 39,
   "id": "smooth-botswana",
   "metadata": {},
   "outputs": [
    {
     "data": {
      "text/plain": [
       "f    8542\n",
       "t     630\n",
       "Name: query hypothyroid, dtype: int64"
      ]
     },
     "execution_count": 39,
     "metadata": {},
     "output_type": "execute_result"
    }
   ],
   "source": [
    "##### \n",
    "df['query hypothyroid'].value_counts()\n"
   ]
  },
  {
   "cell_type": "code",
   "execution_count": 40,
   "id": "turkish-nightmare",
   "metadata": {},
   "outputs": [],
   "source": [
    "#19\n",
    "df['query hypothyroid'] = df['query hypothyroid'].replace('f', 1)\n",
    "df['query hypothyroid'] = df['query hypothyroid'].replace('t', 0)"
   ]
  },
  {
   "cell_type": "code",
   "execution_count": 41,
   "id": "vocational-awareness",
   "metadata": {},
   "outputs": [],
   "source": [
    "#20"
   ]
  },
  {
   "cell_type": "code",
   "execution_count": 42,
   "id": "european-ecology",
   "metadata": {},
   "outputs": [
    {
     "data": {
      "text/plain": [
       "f    8521\n",
       "t     651\n",
       "Name: query hyperthyroid, dtype: int64"
      ]
     },
     "execution_count": 42,
     "metadata": {},
     "output_type": "execute_result"
    }
   ],
   "source": [
    "df['query hyperthyroid'].value_counts()"
   ]
  },
  {
   "cell_type": "code",
   "execution_count": 43,
   "id": "affected-quebec",
   "metadata": {},
   "outputs": [],
   "source": [
    "df['query hyperthyroid'] = df['query hyperthyroid'].replace('f', 1)\n",
    "df['query hyperthyroid'] = df['query hyperthyroid'].replace('t', 0)"
   ]
  },
  {
   "cell_type": "code",
   "execution_count": 44,
   "id": "numerous-balance",
   "metadata": {},
   "outputs": [],
   "source": [
    "#21"
   ]
  },
  {
   "cell_type": "code",
   "execution_count": 45,
   "id": "prescription-thing",
   "metadata": {},
   "outputs": [
    {
     "name": "stdout",
     "output_type": "stream",
     "text": [
      "f    9079\n",
      "t      93\n",
      "Name: lithium, dtype: int64\n"
     ]
    }
   ],
   "source": [
    "\n",
    "#21\n",
    "print(df['lithium'].value_counts())\n",
    "df['lithium'] = df['lithium'].replace('f', 1)\n",
    "df['lithium'] = df['lithium'].replace('t', 0)"
   ]
  },
  {
   "cell_type": "code",
   "execution_count": 46,
   "id": "fifteen-employee",
   "metadata": {},
   "outputs": [],
   "source": [
    "#22"
   ]
  },
  {
   "cell_type": "code",
   "execution_count": 47,
   "id": "collected-universal",
   "metadata": {},
   "outputs": [
    {
     "data": {
      "text/plain": [
       "f    9088\n",
       "t      84\n",
       "Name: goitre, dtype: int64"
      ]
     },
     "execution_count": 47,
     "metadata": {},
     "output_type": "execute_result"
    }
   ],
   "source": [
    "#22\n",
    "df['goitre'].value_counts()"
   ]
  },
  {
   "cell_type": "code",
   "execution_count": 48,
   "id": "neural-allah",
   "metadata": {},
   "outputs": [],
   "source": [
    "df['goitre'] = df['goitre'].replace('f', 1)\n",
    "df['goitre'] = df['goitre'].replace('t', 0)"
   ]
  },
  {
   "cell_type": "code",
   "execution_count": 49,
   "id": "stable-start",
   "metadata": {},
   "outputs": [],
   "source": [
    "#23"
   ]
  },
  {
   "cell_type": "code",
   "execution_count": 50,
   "id": "undefined-heating",
   "metadata": {},
   "outputs": [
    {
     "data": {
      "text/plain": [
       "f    8931\n",
       "t     241\n",
       "Name: tumor, dtype: int64"
      ]
     },
     "execution_count": 50,
     "metadata": {},
     "output_type": "execute_result"
    }
   ],
   "source": [
    "df['tumor'].value_counts()"
   ]
  },
  {
   "cell_type": "code",
   "execution_count": 51,
   "id": "recent-replacement",
   "metadata": {},
   "outputs": [],
   "source": [
    "df['tumor'] = df['tumor'].replace('f', 1)\n",
    "df['tumor'] = df['tumor'].replace('t', 0)"
   ]
  },
  {
   "cell_type": "code",
   "execution_count": 52,
   "id": "lyric-infrastructure",
   "metadata": {},
   "outputs": [],
   "source": [
    "#24"
   ]
  },
  {
   "cell_type": "code",
   "execution_count": 53,
   "id": "armed-verification",
   "metadata": {},
   "outputs": [
    {
     "data": {
      "text/plain": [
       "f    9170\n",
       "t       2\n",
       "Name: hypopituitary, dtype: int64"
      ]
     },
     "execution_count": 53,
     "metadata": {},
     "output_type": "execute_result"
    }
   ],
   "source": [
    "df['hypopituitary'].value_counts()"
   ]
  },
  {
   "cell_type": "code",
   "execution_count": 54,
   "id": "italian-thread",
   "metadata": {},
   "outputs": [],
   "source": [
    "df = df.drop( ['hypopituitary'], axis=1)"
   ]
  },
  {
   "cell_type": "code",
   "execution_count": 55,
   "id": "streaming-interpretation",
   "metadata": {},
   "outputs": [],
   "source": [
    "#25"
   ]
  },
  {
   "cell_type": "code",
   "execution_count": 56,
   "id": "linear-timeline",
   "metadata": {},
   "outputs": [
    {
     "data": {
      "text/plain": [
       "f    8754\n",
       "t     418\n",
       "Name: psych, dtype: int64"
      ]
     },
     "execution_count": 56,
     "metadata": {},
     "output_type": "execute_result"
    }
   ],
   "source": [
    "df['psych'].value_counts()"
   ]
  },
  {
   "cell_type": "code",
   "execution_count": 57,
   "id": "limiting-current",
   "metadata": {},
   "outputs": [],
   "source": [
    "df['psych'] = df['psych'].replace('f', 1)\n",
    "df['psych'] = df['psych'].replace('t', 0)"
   ]
  },
  {
   "cell_type": "code",
   "execution_count": 58,
   "id": "wanted-government",
   "metadata": {},
   "outputs": [],
   "source": [
    "#26"
   ]
  },
  {
   "cell_type": "code",
   "execution_count": 59,
   "id": "speaking-shame",
   "metadata": {},
   "outputs": [
    {
     "data": {
      "text/plain": [
       "t    8330\n",
       "f     842\n",
       "Name: TSH measured, dtype: int64"
      ]
     },
     "execution_count": 59,
     "metadata": {},
     "output_type": "execute_result"
    }
   ],
   "source": [
    "df['TSH measured'].value_counts()"
   ]
  },
  {
   "cell_type": "code",
   "execution_count": 60,
   "id": "streaming-european",
   "metadata": {},
   "outputs": [],
   "source": [
    "df['TSH measured'] = df['TSH measured'].replace('t', 1)\n",
    "df['TSH measured'] = df['TSH measured'].replace('f', 0)"
   ]
  },
  {
   "cell_type": "code",
   "execution_count": 61,
   "id": "uniform-glass",
   "metadata": {},
   "outputs": [],
   "source": [
    "#27"
   ]
  },
  {
   "cell_type": "code",
   "execution_count": 62,
   "id": "provincial-functionality",
   "metadata": {},
   "outputs": [],
   "source": [
    "#27\n",
    "df['TSH']= df['TSH'].replace(np.nan,0)"
   ]
  },
  {
   "cell_type": "code",
   "execution_count": 63,
   "id": "contemporary-board",
   "metadata": {},
   "outputs": [
    {
     "data": {
      "text/plain": [
       "0"
      ]
     },
     "execution_count": 63,
     "metadata": {},
     "output_type": "execute_result"
    }
   ],
   "source": [
    "df['TSH'].isnull().sum().sum()"
   ]
  },
  {
   "cell_type": "code",
   "execution_count": 64,
   "id": "administrative-activation",
   "metadata": {},
   "outputs": [],
   "source": [
    "df['TSH']= pd.to_numeric(df['TSH'])"
   ]
  },
  {
   "cell_type": "code",
   "execution_count": 65,
   "id": "impressed-regular",
   "metadata": {},
   "outputs": [
    {
     "data": {
      "text/plain": [
       "4.739347463911906"
      ]
     },
     "execution_count": 65,
     "metadata": {},
     "output_type": "execute_result"
    }
   ],
   "source": [
    "df['TSH'].mean()"
   ]
  },
  {
   "cell_type": "code",
   "execution_count": 66,
   "id": "composite-clearance",
   "metadata": {},
   "outputs": [],
   "source": [
    "#28"
   ]
  },
  {
   "cell_type": "code",
   "execution_count": 67,
   "id": "advisory-culture",
   "metadata": {},
   "outputs": [
    {
     "name": "stdout",
     "output_type": "stream",
     "text": [
      "<class 'pandas.core.frame.DataFrame'>\n",
      "RangeIndex: 9172 entries, 0 to 9171\n",
      "Data columns (total 11 columns):\n",
      " #   Column           Non-Null Count  Dtype \n",
      "---  ------           --------------  ----- \n",
      " 0   T3 measured      9172 non-null   object\n",
      " 1   T3               6568 non-null   object\n",
      " 2   TT4 measured     9172 non-null   object\n",
      " 3   TT4              8730 non-null   object\n",
      " 4   T4U measured     9172 non-null   object\n",
      " 5   T4U              8363 non-null   object\n",
      " 6   FTI measured     9172 non-null   object\n",
      " 7   FTI              8370 non-null   object\n",
      " 8   TBG measured     9172 non-null   object\n",
      " 9   TBG              349 non-null    object\n",
      " 10  referral source  9172 non-null   object\n",
      "dtypes: object(11)\n",
      "memory usage: 788.3+ KB\n"
     ]
    }
   ],
   "source": [
    "#28\n",
    "df1=df.select_dtypes(include=['object'])\n",
    "df1.info()"
   ]
  },
  {
   "cell_type": "code",
   "execution_count": 68,
   "id": "weighted-nitrogen",
   "metadata": {},
   "outputs": [
    {
     "name": "stdout",
     "output_type": "stream",
     "text": [
      "<class 'pandas.core.frame.DataFrame'>\n",
      "RangeIndex: 9172 entries, 0 to 9171\n",
      "Data columns (total 27 columns):\n",
      " #   Column                     Non-Null Count  Dtype  \n",
      "---  ------                     --------------  -----  \n",
      " 0   age                        9172 non-null   int64  \n",
      " 1   sex                        9172 non-null   int64  \n",
      " 2   on antithyroid medication  9172 non-null   int64  \n",
      " 3   sick                       9172 non-null   int64  \n",
      " 4   pregnant                   9172 non-null   int64  \n",
      " 5   thyroid surgery            9172 non-null   int64  \n",
      " 6   I131 treatment             9172 non-null   int64  \n",
      " 7   query hypothyroid          9172 non-null   int64  \n",
      " 8   query hyperthyroid         9172 non-null   int64  \n",
      " 9   lithium                    9172 non-null   int64  \n",
      " 10  goitre                     9172 non-null   int64  \n",
      " 11  tumor                      9172 non-null   int64  \n",
      " 12  psych                      9172 non-null   int64  \n",
      " 13  TSH measured               9172 non-null   int64  \n",
      " 14  TSH                        9172 non-null   float64\n",
      " 15  T3 measured                9172 non-null   object \n",
      " 16  T3                         6568 non-null   object \n",
      " 17  TT4 measured               9172 non-null   object \n",
      " 18  TT4                        8730 non-null   object \n",
      " 19  T4U measured               9172 non-null   object \n",
      " 20  T4U                        8363 non-null   object \n",
      " 21  FTI measured               9172 non-null   object \n",
      " 22  FTI                        8370 non-null   object \n",
      " 23  TBG measured               9172 non-null   object \n",
      " 24  TBG                        349 non-null    object \n",
      " 25  referral source            9172 non-null   object \n",
      " 26  y                          9172 non-null   int64  \n",
      "dtypes: float64(1), int64(15), object(11)\n",
      "memory usage: 1.9+ MB\n"
     ]
    }
   ],
   "source": [
    "df.info()"
   ]
  },
  {
   "cell_type": "markdown",
   "id": "dirty-bulgaria",
   "metadata": {},
   "source": [
    "# lab2"
   ]
  },
  {
   "cell_type": "code",
   "execution_count": 69,
   "id": "planned-initial",
   "metadata": {},
   "outputs": [],
   "source": [
    "#1 and #2"
   ]
  },
  {
   "cell_type": "code",
   "execution_count": 70,
   "id": "generic-prototype",
   "metadata": {},
   "outputs": [
    {
     "data": {
      "text/plain": [
       "t    8730\n",
       "f     442\n",
       "Name: TT4 measured, dtype: int64"
      ]
     },
     "execution_count": 70,
     "metadata": {},
     "output_type": "execute_result"
    }
   ],
   "source": [
    "df['TT4 measured'].value_counts()"
   ]
  },
  {
   "cell_type": "code",
   "execution_count": 71,
   "id": "romantic-business",
   "metadata": {},
   "outputs": [],
   "source": [
    "df['TT4 measured'] = df['TT4 measured'].replace('t', 1)\n",
    "df['TT4 measured'] = df['TT4 measured'].replace('f', 0)"
   ]
  },
  {
   "cell_type": "code",
   "execution_count": 72,
   "id": "silver-nigeria",
   "metadata": {},
   "outputs": [
    {
     "data": {
      "text/plain": [
       "442"
      ]
     },
     "execution_count": 72,
     "metadata": {},
     "output_type": "execute_result"
    }
   ],
   "source": [
    "df['TT4'].isnull().sum()"
   ]
  },
  {
   "cell_type": "code",
   "execution_count": 73,
   "id": "defined-granny",
   "metadata": {},
   "outputs": [
    {
     "data": {
      "text/plain": [
       "0"
      ]
     },
     "execution_count": 73,
     "metadata": {},
     "output_type": "execute_result"
    }
   ],
   "source": [
    "df['TT4']= df['TT4'].replace(np.nan, 0)\n",
    "df['TT4'].isnull().sum().sum()"
   ]
  },
  {
   "cell_type": "code",
   "execution_count": 74,
   "id": "opponent-shield",
   "metadata": {},
   "outputs": [],
   "source": [
    "df['TT4']= pd.to_numeric(df['TT4'])"
   ]
  },
  {
   "cell_type": "code",
   "execution_count": 75,
   "id": "incorporate-stewart",
   "metadata": {},
   "outputs": [
    {
     "data": {
      "text/plain": [
       "103.46202136938508"
      ]
     },
     "execution_count": 75,
     "metadata": {},
     "output_type": "execute_result"
    }
   ],
   "source": [
    "#2\n",
    "df['TT4'].mean()"
   ]
  },
  {
   "cell_type": "code",
   "execution_count": 76,
   "id": "extra-graphics",
   "metadata": {},
   "outputs": [],
   "source": [
    "#3"
   ]
  },
  {
   "cell_type": "code",
   "execution_count": 77,
   "id": "genetic-letter",
   "metadata": {},
   "outputs": [
    {
     "data": {
      "text/plain": [
       "t    6568\n",
       "f    2604\n",
       "Name: T3 measured, dtype: int64"
      ]
     },
     "execution_count": 77,
     "metadata": {},
     "output_type": "execute_result"
    }
   ],
   "source": [
    "df['T3 measured'].value_counts()"
   ]
  },
  {
   "cell_type": "code",
   "execution_count": 78,
   "id": "potential-documentary",
   "metadata": {},
   "outputs": [],
   "source": [
    "df['T3 measured'] = df['T3 measured'].replace('t', 1)\n",
    "df['T3 measured'] = df['T3 measured'].replace('f', 0)"
   ]
  },
  {
   "cell_type": "code",
   "execution_count": 79,
   "id": "royal-julian",
   "metadata": {},
   "outputs": [
    {
     "data": {
      "text/plain": [
       "2604"
      ]
     },
     "execution_count": 79,
     "metadata": {},
     "output_type": "execute_result"
    }
   ],
   "source": [
    "df['T3'].isnull().sum()"
   ]
  },
  {
   "cell_type": "code",
   "execution_count": 80,
   "id": "friendly-journey",
   "metadata": {},
   "outputs": [],
   "source": [
    "#4"
   ]
  },
  {
   "cell_type": "code",
   "execution_count": 81,
   "id": "informal-bargain",
   "metadata": {},
   "outputs": [],
   "source": [
    "df['T3']= pd.to_numeric(df['T3'])"
   ]
  },
  {
   "cell_type": "code",
   "execution_count": 82,
   "id": "major-treaty",
   "metadata": {},
   "outputs": [],
   "source": [
    "df['T3']= df['T3'].replace(np.nan, 0)"
   ]
  },
  {
   "cell_type": "code",
   "execution_count": 83,
   "id": "welsh-springer",
   "metadata": {},
   "outputs": [
    {
     "data": {
      "text/plain": [
       "1.4111524199738334"
      ]
     },
     "execution_count": 83,
     "metadata": {},
     "output_type": "execute_result"
    }
   ],
   "source": [
    "df['T3'].mean()"
   ]
  },
  {
   "cell_type": "code",
   "execution_count": 84,
   "id": "accredited-nepal",
   "metadata": {},
   "outputs": [],
   "source": [
    "#5"
   ]
  },
  {
   "cell_type": "code",
   "execution_count": 85,
   "id": "recorded-wallet",
   "metadata": {},
   "outputs": [
    {
     "data": {
      "text/plain": [
       "t    8363\n",
       "f     809\n",
       "Name: T4U measured, dtype: int64"
      ]
     },
     "execution_count": 85,
     "metadata": {},
     "output_type": "execute_result"
    }
   ],
   "source": [
    "df['T4U measured'].value_counts()"
   ]
  },
  {
   "cell_type": "code",
   "execution_count": 86,
   "id": "double-kentucky",
   "metadata": {},
   "outputs": [],
   "source": [
    "df['T4U measured'] = df['T4U measured'].replace('t', 1)\n",
    "df['T4U measured'] = df['T4U measured'].replace('f', 0)"
   ]
  },
  {
   "cell_type": "code",
   "execution_count": 87,
   "id": "express-recommendation",
   "metadata": {},
   "outputs": [],
   "source": [
    "df['T4U']= df['T4U'].replace(np.nan, 0)"
   ]
  },
  {
   "cell_type": "code",
   "execution_count": 88,
   "id": "going-horizontal",
   "metadata": {},
   "outputs": [],
   "source": [
    "df['T4U']= pd.to_numeric(df['T4U'])"
   ]
  },
  {
   "cell_type": "code",
   "execution_count": 89,
   "id": "checked-walker",
   "metadata": {},
   "outputs": [],
   "source": [
    "#6"
   ]
  },
  {
   "cell_type": "code",
   "execution_count": 90,
   "id": "adapted-clerk",
   "metadata": {},
   "outputs": [
    {
     "data": {
      "text/plain": [
       "0.8899644570431747"
      ]
     },
     "execution_count": 90,
     "metadata": {},
     "output_type": "execute_result"
    }
   ],
   "source": [
    "df['T4U'].mean()"
   ]
  },
  {
   "cell_type": "code",
   "execution_count": 91,
   "id": "authorized-breed",
   "metadata": {},
   "outputs": [],
   "source": [
    "#7"
   ]
  },
  {
   "cell_type": "code",
   "execution_count": 92,
   "id": "threatened-bread",
   "metadata": {},
   "outputs": [
    {
     "data": {
      "text/plain": [
       "t    8370\n",
       "f     802\n",
       "Name: FTI measured, dtype: int64"
      ]
     },
     "execution_count": 92,
     "metadata": {},
     "output_type": "execute_result"
    }
   ],
   "source": [
    "df['FTI measured'].value_counts()"
   ]
  },
  {
   "cell_type": "code",
   "execution_count": 93,
   "id": "academic-garden",
   "metadata": {},
   "outputs": [],
   "source": [
    "df['FTI measured'] = df['FTI measured'].replace('t', 1)\n",
    "df['FTI measured'] = df['FTI measured'].replace('f', 0)"
   ]
  },
  {
   "cell_type": "code",
   "execution_count": 94,
   "id": "overall-coordination",
   "metadata": {},
   "outputs": [],
   "source": [
    "df['FTI']= df['FTI'].replace(np.nan, 0)"
   ]
  },
  {
   "cell_type": "code",
   "execution_count": 95,
   "id": "delayed-nursery",
   "metadata": {},
   "outputs": [],
   "source": [
    "df['FTI']= pd.to_numeric(df['FTI'])"
   ]
  },
  {
   "cell_type": "code",
   "execution_count": 96,
   "id": "about-cyprus",
   "metadata": {},
   "outputs": [],
   "source": [
    "#8"
   ]
  },
  {
   "cell_type": "code",
   "execution_count": 97,
   "id": "level-smoke",
   "metadata": {},
   "outputs": [
    {
     "data": {
      "text/plain": [
       "103.70399476635413"
      ]
     },
     "execution_count": 97,
     "metadata": {},
     "output_type": "execute_result"
    }
   ],
   "source": [
    "df['FTI'].mean()"
   ]
  },
  {
   "cell_type": "code",
   "execution_count": 98,
   "id": "thousand-restriction",
   "metadata": {},
   "outputs": [],
   "source": [
    "#9"
   ]
  },
  {
   "cell_type": "code",
   "execution_count": 99,
   "id": "equal-moment",
   "metadata": {},
   "outputs": [
    {
     "data": {
      "text/plain": [
       "f    8823\n",
       "t     349\n",
       "Name: TBG measured, dtype: int64"
      ]
     },
     "execution_count": 99,
     "metadata": {},
     "output_type": "execute_result"
    }
   ],
   "source": [
    "df['TBG measured'].value_counts()"
   ]
  },
  {
   "cell_type": "code",
   "execution_count": 100,
   "id": "appropriate-drunk",
   "metadata": {},
   "outputs": [],
   "source": [
    "df['TBG measured'] = df['TBG measured'].replace('f', 1)\n",
    "df['TBG measured'] = df['TBG measured'].replace('t', 0)"
   ]
  },
  {
   "cell_type": "code",
   "execution_count": 101,
   "id": "partial-cooperative",
   "metadata": {},
   "outputs": [],
   "source": [
    "#10"
   ]
  },
  {
   "cell_type": "code",
   "execution_count": 102,
   "id": "exposed-walker",
   "metadata": {},
   "outputs": [
    {
     "data": {
      "text/plain": [
       "1.136573266027039"
      ]
     },
     "execution_count": 102,
     "metadata": {},
     "output_type": "execute_result"
    }
   ],
   "source": [
    "df['TBG']= df['TBG'].replace(np.nan, 0)\n",
    "df['TBG']= pd.to_numeric(df['TBG'])\n",
    "df['TBG'].mean()"
   ]
  },
  {
   "cell_type": "code",
   "execution_count": 103,
   "id": "compatible-badge",
   "metadata": {},
   "outputs": [],
   "source": [
    "#11"
   ]
  },
  {
   "cell_type": "code",
   "execution_count": 104,
   "id": "remarkable-revision",
   "metadata": {},
   "outputs": [
    {
     "data": {
      "text/plain": [
       "other    5493\n",
       "SVI      2394\n",
       "SVHC      956\n",
       "STMW      255\n",
       "SVHD       71\n",
       "WEST        3\n",
       "Name: referral source, dtype: int64"
      ]
     },
     "execution_count": 104,
     "metadata": {},
     "output_type": "execute_result"
    }
   ],
   "source": [
    "freq = df['referral source'].value_counts()\n",
    "freq"
   ]
  },
  {
   "cell_type": "code",
   "execution_count": 105,
   "id": "massive-december",
   "metadata": {},
   "outputs": [],
   "source": [
    "#12"
   ]
  },
  {
   "cell_type": "code",
   "execution_count": 106,
   "id": "imported-bryan",
   "metadata": {},
   "outputs": [],
   "source": [
    "type_dummies= pd.get_dummies(df['referral source'], columns=['referral source'])\n",
    "df = pd.concat([df,type_dummies],axis=1)"
   ]
  },
  {
   "cell_type": "code",
   "execution_count": 107,
   "id": "premier-watts",
   "metadata": {},
   "outputs": [],
   "source": [
    "df = df.drop(['referral source'], axis=1)"
   ]
  },
  {
   "cell_type": "code",
   "execution_count": 108,
   "id": "compound-safety",
   "metadata": {},
   "outputs": [
    {
     "name": "stdout",
     "output_type": "stream",
     "text": [
      "<class 'pandas.core.frame.DataFrame'>\n",
      "RangeIndex: 9172 entries, 0 to 9171\n",
      "Data columns (total 32 columns):\n",
      " #   Column                     Non-Null Count  Dtype  \n",
      "---  ------                     --------------  -----  \n",
      " 0   age                        9172 non-null   int64  \n",
      " 1   sex                        9172 non-null   int64  \n",
      " 2   on antithyroid medication  9172 non-null   int64  \n",
      " 3   sick                       9172 non-null   int64  \n",
      " 4   pregnant                   9172 non-null   int64  \n",
      " 5   thyroid surgery            9172 non-null   int64  \n",
      " 6   I131 treatment             9172 non-null   int64  \n",
      " 7   query hypothyroid          9172 non-null   int64  \n",
      " 8   query hyperthyroid         9172 non-null   int64  \n",
      " 9   lithium                    9172 non-null   int64  \n",
      " 10  goitre                     9172 non-null   int64  \n",
      " 11  tumor                      9172 non-null   int64  \n",
      " 12  psych                      9172 non-null   int64  \n",
      " 13  TSH measured               9172 non-null   int64  \n",
      " 14  TSH                        9172 non-null   float64\n",
      " 15  T3 measured                9172 non-null   int64  \n",
      " 16  T3                         9172 non-null   float64\n",
      " 17  TT4 measured               9172 non-null   int64  \n",
      " 18  TT4                        9172 non-null   float64\n",
      " 19  T4U measured               9172 non-null   int64  \n",
      " 20  T4U                        9172 non-null   float64\n",
      " 21  FTI measured               9172 non-null   int64  \n",
      " 22  FTI                        9172 non-null   float64\n",
      " 23  TBG measured               9172 non-null   int64  \n",
      " 24  TBG                        9172 non-null   float64\n",
      " 25  y                          9172 non-null   int64  \n",
      " 26  STMW                       9172 non-null   uint8  \n",
      " 27  SVHC                       9172 non-null   uint8  \n",
      " 28  SVHD                       9172 non-null   uint8  \n",
      " 29  SVI                        9172 non-null   uint8  \n",
      " 30  WEST                       9172 non-null   uint8  \n",
      " 31  other                      9172 non-null   uint8  \n",
      "dtypes: float64(6), int64(20), uint8(6)\n",
      "memory usage: 1.9 MB\n"
     ]
    }
   ],
   "source": [
    "df.info()"
   ]
  },
  {
   "cell_type": "code",
   "execution_count": 109,
   "id": "binary-trust",
   "metadata": {},
   "outputs": [],
   "source": [
    "df = pd.read_csv('data2.csv')"
   ]
  },
  {
   "cell_type": "code",
   "execution_count": 110,
   "id": "current-comparison",
   "metadata": {},
   "outputs": [],
   "source": [
    "#13"
   ]
  },
  {
   "cell_type": "code",
   "execution_count": 111,
   "id": "excited-riding",
   "metadata": {},
   "outputs": [
    {
     "data": {
      "text/plain": [
       "False    9168\n",
       "True        4\n",
       "Name: age, dtype: int64"
      ]
     },
     "execution_count": 111,
     "metadata": {},
     "output_type": "execute_result"
    }
   ],
   "source": [
    "(df['age']>100).value_counts()"
   ]
  },
  {
   "cell_type": "code",
   "execution_count": 112,
   "id": "fancy-better",
   "metadata": {},
   "outputs": [
    {
     "data": {
      "text/plain": [
       "4"
      ]
     },
     "execution_count": 112,
     "metadata": {},
     "output_type": "execute_result"
    }
   ],
   "source": [
    "(df['age']>100).sum()"
   ]
  },
  {
   "cell_type": "code",
   "execution_count": 113,
   "id": "advised-harris",
   "metadata": {},
   "outputs": [],
   "source": [
    "df = df.drop(df[df['age'] > 100].index, axis=0)"
   ]
  },
  {
   "cell_type": "code",
   "execution_count": 114,
   "id": "selected-identification",
   "metadata": {},
   "outputs": [
    {
     "data": {
      "text/plain": [
       "False    9168\n",
       "Name: age, dtype: int64"
      ]
     },
     "execution_count": 114,
     "metadata": {},
     "output_type": "execute_result"
    }
   ],
   "source": [
    "(df['age']>100).value_counts()"
   ]
  },
  {
   "cell_type": "code",
   "execution_count": 115,
   "id": "unable-decision",
   "metadata": {},
   "outputs": [],
   "source": [
    "#14"
   ]
  },
  {
   "cell_type": "code",
   "execution_count": 116,
   "id": "portable-regulation",
   "metadata": {},
   "outputs": [
    {
     "data": {
      "text/plain": [
       "52.099694589877835"
      ]
     },
     "execution_count": 116,
     "metadata": {},
     "output_type": "execute_result"
    }
   ],
   "source": [
    "df['age'].mean()"
   ]
  },
  {
   "cell_type": "code",
   "execution_count": 117,
   "id": "antique-olive",
   "metadata": {},
   "outputs": [],
   "source": [
    "#15"
   ]
  },
  {
   "cell_type": "code",
   "execution_count": 118,
   "id": "eligible-smell",
   "metadata": {},
   "outputs": [
    {
     "data": {
      "text/html": [
       "<div>\n",
       "<style scoped>\n",
       "    .dataframe tbody tr th:only-of-type {\n",
       "        vertical-align: middle;\n",
       "    }\n",
       "\n",
       "    .dataframe tbody tr th {\n",
       "        vertical-align: top;\n",
       "    }\n",
       "\n",
       "    .dataframe thead th {\n",
       "        text-align: right;\n",
       "    }\n",
       "</style>\n",
       "<table border=\"1\" class=\"dataframe\">\n",
       "  <thead>\n",
       "    <tr style=\"text-align: right;\">\n",
       "      <th></th>\n",
       "      <th>sex</th>\n",
       "      <th>age</th>\n",
       "    </tr>\n",
       "  </thead>\n",
       "  <tbody>\n",
       "    <tr>\n",
       "      <th>0</th>\n",
       "      <td>0</td>\n",
       "      <td>AxesSubplot(0.125,0.125;0.775x0.755)</td>\n",
       "    </tr>\n",
       "    <tr>\n",
       "      <th>1</th>\n",
       "      <td>1</td>\n",
       "      <td>AxesSubplot(0.125,0.125;0.775x0.755)</td>\n",
       "    </tr>\n",
       "  </tbody>\n",
       "</table>\n",
       "</div>"
      ],
      "text/plain": [
       "   sex                                   age\n",
       "0    0  AxesSubplot(0.125,0.125;0.775x0.755)\n",
       "1    1  AxesSubplot(0.125,0.125;0.775x0.755)"
      ]
     },
     "execution_count": 118,
     "metadata": {},
     "output_type": "execute_result"
    },
    {
     "data": {
      "image/png": "[encoded data removed]",
      "text/plain": [
       "<Figure size 432x288 with 1 Axes>"
      ]
     },
     "metadata": {
      "needs_background": "light"
     },
     "output_type": "display_data"
    }
   ],
   "source": [
    "import matplotlib.pyplot as plt\n",
    "import numpy as np\n",
    "df1 = df.groupby('sex', as_index=False)\n",
    "df1['age'].plot(kind='density', legend=True) # or pd.Series()"
   ]
  },
  {
   "cell_type": "code",
   "execution_count": 119,
   "id": "normal-gentleman",
   "metadata": {},
   "outputs": [
    {
     "data": {
      "text/plain": [
       "<AxesSubplot:ylabel='Frequency'>"
      ]
     },
     "execution_count": 119,
     "metadata": {},
     "output_type": "execute_result"
    },
    {
     "data": {
      "image/png": "[encoded data removed]",
      "text/plain": [
       "<Figure size 432x288 with 1 Axes>"
      ]
     },
     "metadata": {
      "needs_background": "light"
     },
     "output_type": "display_data"
    }
   ],
   "source": [
    "df['age'][df['sex']==0].plot(kind='hist')"
   ]
  },
  {
   "cell_type": "code",
   "execution_count": 120,
   "id": "hybrid-italic",
   "metadata": {},
   "outputs": [
    {
     "data": {
      "text/plain": [
       "<AxesSubplot:ylabel='Frequency'>"
      ]
     },
     "execution_count": 120,
     "metadata": {},
     "output_type": "execute_result"
    },
    {
     "data": {
      "image/png": "[encoded data removed]",
      "text/plain": [
       "<Figure size 432x288 with 1 Axes>"
      ]
     },
     "metadata": {
      "needs_background": "light"
     },
     "output_type": "display_data"
    }
   ],
   "source": [
    "df['age'][df['sex']==1].plot(kind='hist')"
   ]
  },
  {
   "cell_type": "code",
   "execution_count": 121,
   "id": "smoking-kazakhstan",
   "metadata": {},
   "outputs": [
    {
     "data": {
      "text/html": [
       "<div>\n",
       "<style scoped>\n",
       "    .dataframe tbody tr th:only-of-type {\n",
       "        vertical-align: middle;\n",
       "    }\n",
       "\n",
       "    .dataframe tbody tr th {\n",
       "        vertical-align: top;\n",
       "    }\n",
       "\n",
       "    .dataframe thead th {\n",
       "        text-align: right;\n",
       "    }\n",
       "</style>\n",
       "<table border=\"1\" class=\"dataframe\">\n",
       "  <thead>\n",
       "    <tr style=\"text-align: right;\">\n",
       "      <th></th>\n",
       "      <th>sex</th>\n",
       "      <th>age</th>\n",
       "    </tr>\n",
       "  </thead>\n",
       "  <tbody>\n",
       "    <tr>\n",
       "      <th>0</th>\n",
       "      <td>0</td>\n",
       "      <td>52.038351</td>\n",
       "    </tr>\n",
       "    <tr>\n",
       "      <th>1</th>\n",
       "      <td>1</td>\n",
       "      <td>52.126529</td>\n",
       "    </tr>\n",
       "  </tbody>\n",
       "</table>\n",
       "</div>"
      ],
      "text/plain": [
       "   sex        age\n",
       "0    0  52.038351\n",
       "1    1  52.126529"
      ]
     },
     "execution_count": 121,
     "metadata": {},
     "output_type": "execute_result"
    }
   ],
   "source": [
    "df.groupby('sex', as_index=False).age.mean()\n",
    "#men 0\n",
    "#women 1"
   ]
  },
  {
   "cell_type": "code",
   "execution_count": 122,
   "id": "canadian-wrapping",
   "metadata": {},
   "outputs": [],
   "source": [
    "#16"
   ]
  },
  {
   "cell_type": "markdown",
   "id": "rising-article",
   "metadata": {},
   "source": [
    "#16\n",
    "At this point, you should separate the feature set from the target values. The feature set of this data frame includes all the features except the column 'y'. Set column 'y' as the target column of this data frame. The next step is to scale the feature set. or the scaling we will use MinMaxScaler. Make a data frame out of the scaled data frame with the same column names as the original feature set. From now on, we refer to the feature set as X and the target column as y. What is the average column 'age' in X? Enter the answer with two digits after the decimal point."
   ]
  },
  {
   "cell_type": "code",
   "execution_count": 123,
   "id": "pursuant-style",
   "metadata": {},
   "outputs": [],
   "source": [
    "X= df.drop('y', axis=1)\n",
    "y= df['y']"
   ]
  },
  {
   "cell_type": "code",
   "execution_count": 125,
   "id": "egyptian-armenia",
   "metadata": {},
   "outputs": [],
   "source": [
    "from numpy import asarray\n",
    "from sklearn.preprocessing import MinMaxScaler\n",
    "scaler = MinMaxScaler()\n",
    "# transform data \n",
    "scaled = scaler.fit_transform(X)"
   ]
  },
  {
   "cell_type": "code",
   "execution_count": 127,
   "id": "usual-scott",
   "metadata": {},
   "outputs": [],
   "source": [
    "X= pd.DataFrame(scaled,  columns= X.columns)"
   ]
  },
  {
   "cell_type": "code",
   "execution_count": 128,
   "id": "arabic-asbestos",
   "metadata": {},
   "outputs": [
    {
     "data": {
      "text/html": [
       "<div>\n",
       "<style scoped>\n",
       "    .dataframe tbody tr th:only-of-type {\n",
       "        vertical-align: middle;\n",
       "    }\n",
       "\n",
       "    .dataframe tbody tr th {\n",
       "        vertical-align: top;\n",
       "    }\n",
       "\n",
       "    .dataframe thead th {\n",
       "        text-align: right;\n",
       "    }\n",
       "</style>\n",
       "<table border=\"1\" class=\"dataframe\">\n",
       "  <thead>\n",
       "    <tr style=\"text-align: right;\">\n",
       "      <th></th>\n",
       "      <th>age</th>\n",
       "      <th>sex</th>\n",
       "      <th>on antithyroid medication</th>\n",
       "      <th>sick</th>\n",
       "      <th>pregnant</th>\n",
       "      <th>thyroid surgery</th>\n",
       "      <th>I131 treatment</th>\n",
       "      <th>query hypothyroid</th>\n",
       "      <th>query hyperthyroid</th>\n",
       "      <th>lithium</th>\n",
       "      <th>...</th>\n",
       "      <th>FTI measured</th>\n",
       "      <th>FTI</th>\n",
       "      <th>TBG measured</th>\n",
       "      <th>TBG</th>\n",
       "      <th>STMW</th>\n",
       "      <th>SVHC</th>\n",
       "      <th>SVHD</th>\n",
       "      <th>SVI</th>\n",
       "      <th>WEST</th>\n",
       "      <th>other</th>\n",
       "    </tr>\n",
       "  </thead>\n",
       "  <tbody>\n",
       "    <tr>\n",
       "      <th>0</th>\n",
       "      <td>0.291667</td>\n",
       "      <td>1.0</td>\n",
       "      <td>1.0</td>\n",
       "      <td>1.0</td>\n",
       "      <td>1.0</td>\n",
       "      <td>1.0</td>\n",
       "      <td>1.0</td>\n",
       "      <td>0.0</td>\n",
       "      <td>1.0</td>\n",
       "      <td>1.0</td>\n",
       "      <td>...</td>\n",
       "      <td>0.0</td>\n",
       "      <td>0.000000</td>\n",
       "      <td>1.0</td>\n",
       "      <td>0.000</td>\n",
       "      <td>0.0</td>\n",
       "      <td>0.0</td>\n",
       "      <td>0.0</td>\n",
       "      <td>0.0</td>\n",
       "      <td>0.0</td>\n",
       "      <td>1.0</td>\n",
       "    </tr>\n",
       "    <tr>\n",
       "      <th>1</th>\n",
       "      <td>0.291667</td>\n",
       "      <td>1.0</td>\n",
       "      <td>1.0</td>\n",
       "      <td>1.0</td>\n",
       "      <td>1.0</td>\n",
       "      <td>1.0</td>\n",
       "      <td>1.0</td>\n",
       "      <td>1.0</td>\n",
       "      <td>1.0</td>\n",
       "      <td>1.0</td>\n",
       "      <td>...</td>\n",
       "      <td>0.0</td>\n",
       "      <td>0.000000</td>\n",
       "      <td>1.0</td>\n",
       "      <td>0.000</td>\n",
       "      <td>0.0</td>\n",
       "      <td>0.0</td>\n",
       "      <td>0.0</td>\n",
       "      <td>0.0</td>\n",
       "      <td>0.0</td>\n",
       "      <td>1.0</td>\n",
       "    </tr>\n",
       "    <tr>\n",
       "      <th>2</th>\n",
       "      <td>0.416667</td>\n",
       "      <td>1.0</td>\n",
       "      <td>1.0</td>\n",
       "      <td>1.0</td>\n",
       "      <td>1.0</td>\n",
       "      <td>1.0</td>\n",
       "      <td>1.0</td>\n",
       "      <td>1.0</td>\n",
       "      <td>0.0</td>\n",
       "      <td>1.0</td>\n",
       "      <td>...</td>\n",
       "      <td>0.0</td>\n",
       "      <td>0.000000</td>\n",
       "      <td>0.0</td>\n",
       "      <td>0.055</td>\n",
       "      <td>0.0</td>\n",
       "      <td>0.0</td>\n",
       "      <td>0.0</td>\n",
       "      <td>0.0</td>\n",
       "      <td>0.0</td>\n",
       "      <td>1.0</td>\n",
       "    </tr>\n",
       "    <tr>\n",
       "      <th>3</th>\n",
       "      <td>0.364583</td>\n",
       "      <td>1.0</td>\n",
       "      <td>1.0</td>\n",
       "      <td>1.0</td>\n",
       "      <td>1.0</td>\n",
       "      <td>1.0</td>\n",
       "      <td>1.0</td>\n",
       "      <td>1.0</td>\n",
       "      <td>1.0</td>\n",
       "      <td>1.0</td>\n",
       "      <td>...</td>\n",
       "      <td>0.0</td>\n",
       "      <td>0.000000</td>\n",
       "      <td>0.0</td>\n",
       "      <td>0.130</td>\n",
       "      <td>0.0</td>\n",
       "      <td>0.0</td>\n",
       "      <td>0.0</td>\n",
       "      <td>0.0</td>\n",
       "      <td>0.0</td>\n",
       "      <td>1.0</td>\n",
       "    </tr>\n",
       "    <tr>\n",
       "      <th>4</th>\n",
       "      <td>0.322917</td>\n",
       "      <td>1.0</td>\n",
       "      <td>1.0</td>\n",
       "      <td>1.0</td>\n",
       "      <td>1.0</td>\n",
       "      <td>1.0</td>\n",
       "      <td>1.0</td>\n",
       "      <td>1.0</td>\n",
       "      <td>1.0</td>\n",
       "      <td>1.0</td>\n",
       "      <td>...</td>\n",
       "      <td>0.0</td>\n",
       "      <td>0.000000</td>\n",
       "      <td>0.0</td>\n",
       "      <td>0.180</td>\n",
       "      <td>0.0</td>\n",
       "      <td>0.0</td>\n",
       "      <td>0.0</td>\n",
       "      <td>0.0</td>\n",
       "      <td>0.0</td>\n",
       "      <td>1.0</td>\n",
       "    </tr>\n",
       "    <tr>\n",
       "      <th>...</th>\n",
       "      <td>...</td>\n",
       "      <td>...</td>\n",
       "      <td>...</td>\n",
       "      <td>...</td>\n",
       "      <td>...</td>\n",
       "      <td>...</td>\n",
       "      <td>...</td>\n",
       "      <td>...</td>\n",
       "      <td>...</td>\n",
       "      <td>...</td>\n",
       "      <td>...</td>\n",
       "      <td>...</td>\n",
       "      <td>...</td>\n",
       "      <td>...</td>\n",
       "      <td>...</td>\n",
       "      <td>...</td>\n",
       "      <td>...</td>\n",
       "      <td>...</td>\n",
       "      <td>...</td>\n",
       "      <td>...</td>\n",
       "      <td>...</td>\n",
       "    </tr>\n",
       "    <tr>\n",
       "      <th>9163</th>\n",
       "      <td>0.572917</td>\n",
       "      <td>0.0</td>\n",
       "      <td>1.0</td>\n",
       "      <td>1.0</td>\n",
       "      <td>1.0</td>\n",
       "      <td>1.0</td>\n",
       "      <td>1.0</td>\n",
       "      <td>1.0</td>\n",
       "      <td>0.0</td>\n",
       "      <td>1.0</td>\n",
       "      <td>...</td>\n",
       "      <td>1.0</td>\n",
       "      <td>0.087401</td>\n",
       "      <td>1.0</td>\n",
       "      <td>0.000</td>\n",
       "      <td>0.0</td>\n",
       "      <td>0.0</td>\n",
       "      <td>0.0</td>\n",
       "      <td>1.0</td>\n",
       "      <td>0.0</td>\n",
       "      <td>0.0</td>\n",
       "    </tr>\n",
       "    <tr>\n",
       "      <th>9164</th>\n",
       "      <td>0.218750</td>\n",
       "      <td>0.0</td>\n",
       "      <td>1.0</td>\n",
       "      <td>1.0</td>\n",
       "      <td>1.0</td>\n",
       "      <td>1.0</td>\n",
       "      <td>1.0</td>\n",
       "      <td>1.0</td>\n",
       "      <td>1.0</td>\n",
       "      <td>1.0</td>\n",
       "      <td>...</td>\n",
       "      <td>1.0</td>\n",
       "      <td>0.112372</td>\n",
       "      <td>1.0</td>\n",
       "      <td>0.000</td>\n",
       "      <td>0.0</td>\n",
       "      <td>0.0</td>\n",
       "      <td>0.0</td>\n",
       "      <td>1.0</td>\n",
       "      <td>0.0</td>\n",
       "      <td>0.0</td>\n",
       "    </tr>\n",
       "    <tr>\n",
       "      <th>9165</th>\n",
       "      <td>0.708333</td>\n",
       "      <td>0.0</td>\n",
       "      <td>1.0</td>\n",
       "      <td>1.0</td>\n",
       "      <td>1.0</td>\n",
       "      <td>1.0</td>\n",
       "      <td>1.0</td>\n",
       "      <td>1.0</td>\n",
       "      <td>1.0</td>\n",
       "      <td>1.0</td>\n",
       "      <td>...</td>\n",
       "      <td>1.0</td>\n",
       "      <td>0.101022</td>\n",
       "      <td>1.0</td>\n",
       "      <td>0.000</td>\n",
       "      <td>0.0</td>\n",
       "      <td>0.0</td>\n",
       "      <td>0.0</td>\n",
       "      <td>1.0</td>\n",
       "      <td>0.0</td>\n",
       "      <td>0.0</td>\n",
       "    </tr>\n",
       "    <tr>\n",
       "      <th>9166</th>\n",
       "      <td>0.479167</td>\n",
       "      <td>1.0</td>\n",
       "      <td>1.0</td>\n",
       "      <td>1.0</td>\n",
       "      <td>1.0</td>\n",
       "      <td>1.0</td>\n",
       "      <td>1.0</td>\n",
       "      <td>1.0</td>\n",
       "      <td>1.0</td>\n",
       "      <td>1.0</td>\n",
       "      <td>...</td>\n",
       "      <td>1.0</td>\n",
       "      <td>0.099886</td>\n",
       "      <td>1.0</td>\n",
       "      <td>0.000</td>\n",
       "      <td>0.0</td>\n",
       "      <td>0.0</td>\n",
       "      <td>0.0</td>\n",
       "      <td>0.0</td>\n",
       "      <td>0.0</td>\n",
       "      <td>1.0</td>\n",
       "    </tr>\n",
       "    <tr>\n",
       "      <th>9167</th>\n",
       "      <td>0.312500</td>\n",
       "      <td>0.0</td>\n",
       "      <td>1.0</td>\n",
       "      <td>1.0</td>\n",
       "      <td>1.0</td>\n",
       "      <td>1.0</td>\n",
       "      <td>1.0</td>\n",
       "      <td>0.0</td>\n",
       "      <td>1.0</td>\n",
       "      <td>1.0</td>\n",
       "      <td>...</td>\n",
       "      <td>1.0</td>\n",
       "      <td>0.073780</td>\n",
       "      <td>1.0</td>\n",
       "      <td>0.000</td>\n",
       "      <td>0.0</td>\n",
       "      <td>0.0</td>\n",
       "      <td>0.0</td>\n",
       "      <td>0.0</td>\n",
       "      <td>0.0</td>\n",
       "      <td>1.0</td>\n",
       "    </tr>\n",
       "  </tbody>\n",
       "</table>\n",
       "<p>9168 rows × 31 columns</p>\n",
       "</div>"
      ],
      "text/plain": [
       "           age  sex  on antithyroid medication  sick  pregnant  \\\n",
       "0     0.291667  1.0                        1.0   1.0       1.0   \n",
       "1     0.291667  1.0                        1.0   1.0       1.0   \n",
       "2     0.416667  1.0                        1.0   1.0       1.0   \n",
       "3     0.364583  1.0                        1.0   1.0       1.0   \n",
       "4     0.322917  1.0                        1.0   1.0       1.0   \n",
       "...        ...  ...                        ...   ...       ...   \n",
       "9163  0.572917  0.0                        1.0   1.0       1.0   \n",
       "9164  0.218750  0.0                        1.0   1.0       1.0   \n",
       "9165  0.708333  0.0                        1.0   1.0       1.0   \n",
       "9166  0.479167  1.0                        1.0   1.0       1.0   \n",
       "9167  0.312500  0.0                        1.0   1.0       1.0   \n",
       "\n",
       "      thyroid surgery  I131 treatment  query hypothyroid  query hyperthyroid  \\\n",
       "0                 1.0             1.0                0.0                 1.0   \n",
       "1                 1.0             1.0                1.0                 1.0   \n",
       "2                 1.0             1.0                1.0                 0.0   \n",
       "3                 1.0             1.0                1.0                 1.0   \n",
       "4                 1.0             1.0                1.0                 1.0   \n",
       "...               ...             ...                ...                 ...   \n",
       "9163              1.0             1.0                1.0                 0.0   \n",
       "9164              1.0             1.0                1.0                 1.0   \n",
       "9165              1.0             1.0                1.0                 1.0   \n",
       "9166              1.0             1.0                1.0                 1.0   \n",
       "9167              1.0             1.0                0.0                 1.0   \n",
       "\n",
       "      lithium  ...  FTI measured       FTI  TBG measured    TBG  STMW  SVHC  \\\n",
       "0         1.0  ...           0.0  0.000000           1.0  0.000   0.0   0.0   \n",
       "1         1.0  ...           0.0  0.000000           1.0  0.000   0.0   0.0   \n",
       "2         1.0  ...           0.0  0.000000           0.0  0.055   0.0   0.0   \n",
       "3         1.0  ...           0.0  0.000000           0.0  0.130   0.0   0.0   \n",
       "4         1.0  ...           0.0  0.000000           0.0  0.180   0.0   0.0   \n",
       "...       ...  ...           ...       ...           ...    ...   ...   ...   \n",
       "9163      1.0  ...           1.0  0.087401           1.0  0.000   0.0   0.0   \n",
       "9164      1.0  ...           1.0  0.112372           1.0  0.000   0.0   0.0   \n",
       "9165      1.0  ...           1.0  0.101022           1.0  0.000   0.0   0.0   \n",
       "9166      1.0  ...           1.0  0.099886           1.0  0.000   0.0   0.0   \n",
       "9167      1.0  ...           1.0  0.073780           1.0  0.000   0.0   0.0   \n",
       "\n",
       "      SVHD  SVI  WEST  other  \n",
       "0      0.0  0.0   0.0    1.0  \n",
       "1      0.0  0.0   0.0    1.0  \n",
       "2      0.0  0.0   0.0    1.0  \n",
       "3      0.0  0.0   0.0    1.0  \n",
       "4      0.0  0.0   0.0    1.0  \n",
       "...    ...  ...   ...    ...  \n",
       "9163   0.0  1.0   0.0    0.0  \n",
       "9164   0.0  1.0   0.0    0.0  \n",
       "9165   0.0  1.0   0.0    0.0  \n",
       "9166   0.0  0.0   0.0    1.0  \n",
       "9167   0.0  0.0   0.0    1.0  \n",
       "\n",
       "[9168 rows x 31 columns]"
      ]
     },
     "execution_count": 128,
     "metadata": {},
     "output_type": "execute_result"
    }
   ],
   "source": [
    "X"
   ]
  },
  {
   "cell_type": "code",
   "execution_count": 129,
   "id": "expanded-master",
   "metadata": {},
   "outputs": [
    {
     "data": {
      "text/plain": [
       "0.5322884853112274"
      ]
     },
     "execution_count": 129,
     "metadata": {},
     "output_type": "execute_result"
    }
   ],
   "source": [
    "X['age'].mean()"
   ]
  },
  {
   "cell_type": "code",
   "execution_count": 130,
   "id": "frozen-dominant",
   "metadata": {},
   "outputs": [],
   "source": [
    "#17"
   ]
  },
  {
   "cell_type": "markdown",
   "id": "demographic-still",
   "metadata": {},
   "source": [
    "#17\n",
    "Which of the following values of distance_threshold results in 4 clusters in an AgglomerativeClustering. Consider default values for all the other parameters. Note that you should train the clustering model on the scaled feature set."
   ]
  },
  {
   "cell_type": "code",
   "execution_count": 131,
   "id": "photographic-islam",
   "metadata": {},
   "outputs": [
    {
     "data": {
      "text/plain": [
       "AgglomerativeClustering(distance_threshold=50, n_clusters=None)"
      ]
     },
     "execution_count": 131,
     "metadata": {},
     "output_type": "execute_result"
    }
   ],
   "source": [
    "from sklearn.cluster import AgglomerativeClustering\n",
    "\n",
    "hc_model = AgglomerativeClustering(distance_threshold=50, n_clusters=None)\n",
    "hc_model.fit(X)"
   ]
  },
  {
   "cell_type": "markdown",
   "id": "electoral-restoration",
   "metadata": {},
   "source": [
    "### 18\n",
    "Consider the AgglomerativeClustering with the distance_threshold that results in 4 clusters. Enter the number of instances in the largest cluster."
   ]
  },
  {
   "cell_type": "markdown",
   "id": "funny-tolerance",
   "metadata": {},
   "source": [
    "from scipy.cluster.hierarchy import dendrogram, linkage\n",
    "\n",
    "plt.subplots(figsize = (20,20))\n",
    "dendrogram(linkage(X, method = 'ward'))\n",
    "plt.axhline(y = 50, c = 'r', linestyle = '--')\n",
    "\n",
    "plt.show()"
   ]
  },
  {
   "cell_type": "code",
   "execution_count": 132,
   "id": "registered-cruise",
   "metadata": {},
   "outputs": [
    {
     "name": "stdout",
     "output_type": "stream",
     "text": [
      "Counter({0: 5220, 1: 2171, 3: 969, 2: 808})\n"
     ]
    }
   ],
   "source": [
    "from collections import Counter\n",
    "print(Counter(hc_model.labels_))"
   ]
  },
  {
   "cell_type": "markdown",
   "id": "middle-reply",
   "metadata": {},
   "source": [
    "### 19\n",
    "Consider the AgglomerativeClustering with the distance_threshold that results in 4 clusters. What is the average age among the instances in the largest cluster? Enter the answer with two digits after the decimal point."
   ]
  },
  {
   "cell_type": "code",
   "execution_count": 133,
   "id": "running-simpson",
   "metadata": {},
   "outputs": [
    {
     "data": {
      "text/html": [
       "<div>\n",
       "<style scoped>\n",
       "    .dataframe tbody tr th:only-of-type {\n",
       "        vertical-align: middle;\n",
       "    }\n",
       "\n",
       "    .dataframe tbody tr th {\n",
       "        vertical-align: top;\n",
       "    }\n",
       "\n",
       "    .dataframe thead th {\n",
       "        text-align: right;\n",
       "    }\n",
       "</style>\n",
       "<table border=\"1\" class=\"dataframe\">\n",
       "  <thead>\n",
       "    <tr style=\"text-align: right;\">\n",
       "      <th></th>\n",
       "      <th>age</th>\n",
       "      <th>sex</th>\n",
       "      <th>on antithyroid medication</th>\n",
       "      <th>sick</th>\n",
       "      <th>pregnant</th>\n",
       "      <th>thyroid surgery</th>\n",
       "      <th>I131 treatment</th>\n",
       "      <th>query hypothyroid</th>\n",
       "      <th>query hyperthyroid</th>\n",
       "      <th>lithium</th>\n",
       "      <th>...</th>\n",
       "      <th>FTI measured</th>\n",
       "      <th>FTI</th>\n",
       "      <th>TBG measured</th>\n",
       "      <th>TBG</th>\n",
       "      <th>STMW</th>\n",
       "      <th>SVHC</th>\n",
       "      <th>SVHD</th>\n",
       "      <th>SVI</th>\n",
       "      <th>WEST</th>\n",
       "      <th>other</th>\n",
       "    </tr>\n",
       "  </thead>\n",
       "  <tbody>\n",
       "    <tr>\n",
       "      <th>18</th>\n",
       "      <td>0.645833</td>\n",
       "      <td>1.0</td>\n",
       "      <td>1.0</td>\n",
       "      <td>0.0</td>\n",
       "      <td>1.0</td>\n",
       "      <td>1.0</td>\n",
       "      <td>1.0</td>\n",
       "      <td>1.0</td>\n",
       "      <td>1.0</td>\n",
       "      <td>1.0</td>\n",
       "      <td>...</td>\n",
       "      <td>1.0</td>\n",
       "      <td>0.053348</td>\n",
       "      <td>1.0</td>\n",
       "      <td>0.0</td>\n",
       "      <td>0.0</td>\n",
       "      <td>0.0</td>\n",
       "      <td>0.0</td>\n",
       "      <td>0.0</td>\n",
       "      <td>0.0</td>\n",
       "      <td>1.0</td>\n",
       "    </tr>\n",
       "    <tr>\n",
       "      <th>19</th>\n",
       "      <td>0.364583</td>\n",
       "      <td>1.0</td>\n",
       "      <td>1.0</td>\n",
       "      <td>1.0</td>\n",
       "      <td>1.0</td>\n",
       "      <td>1.0</td>\n",
       "      <td>1.0</td>\n",
       "      <td>0.0</td>\n",
       "      <td>0.0</td>\n",
       "      <td>1.0</td>\n",
       "      <td>...</td>\n",
       "      <td>1.0</td>\n",
       "      <td>0.096481</td>\n",
       "      <td>1.0</td>\n",
       "      <td>0.0</td>\n",
       "      <td>0.0</td>\n",
       "      <td>0.0</td>\n",
       "      <td>0.0</td>\n",
       "      <td>0.0</td>\n",
       "      <td>0.0</td>\n",
       "      <td>1.0</td>\n",
       "    </tr>\n",
       "    <tr>\n",
       "      <th>20</th>\n",
       "      <td>0.406250</td>\n",
       "      <td>1.0</td>\n",
       "      <td>1.0</td>\n",
       "      <td>1.0</td>\n",
       "      <td>1.0</td>\n",
       "      <td>1.0</td>\n",
       "      <td>1.0</td>\n",
       "      <td>1.0</td>\n",
       "      <td>1.0</td>\n",
       "      <td>1.0</td>\n",
       "      <td>...</td>\n",
       "      <td>1.0</td>\n",
       "      <td>0.095346</td>\n",
       "      <td>1.0</td>\n",
       "      <td>0.0</td>\n",
       "      <td>0.0</td>\n",
       "      <td>0.0</td>\n",
       "      <td>0.0</td>\n",
       "      <td>0.0</td>\n",
       "      <td>0.0</td>\n",
       "      <td>1.0</td>\n",
       "    </tr>\n",
       "    <tr>\n",
       "      <th>21</th>\n",
       "      <td>0.406250</td>\n",
       "      <td>1.0</td>\n",
       "      <td>1.0</td>\n",
       "      <td>1.0</td>\n",
       "      <td>1.0</td>\n",
       "      <td>1.0</td>\n",
       "      <td>1.0</td>\n",
       "      <td>1.0</td>\n",
       "      <td>1.0</td>\n",
       "      <td>1.0</td>\n",
       "      <td>...</td>\n",
       "      <td>1.0</td>\n",
       "      <td>0.108967</td>\n",
       "      <td>1.0</td>\n",
       "      <td>0.0</td>\n",
       "      <td>0.0</td>\n",
       "      <td>0.0</td>\n",
       "      <td>0.0</td>\n",
       "      <td>0.0</td>\n",
       "      <td>0.0</td>\n",
       "      <td>1.0</td>\n",
       "    </tr>\n",
       "    <tr>\n",
       "      <th>22</th>\n",
       "      <td>0.406250</td>\n",
       "      <td>1.0</td>\n",
       "      <td>1.0</td>\n",
       "      <td>1.0</td>\n",
       "      <td>1.0</td>\n",
       "      <td>1.0</td>\n",
       "      <td>1.0</td>\n",
       "      <td>1.0</td>\n",
       "      <td>1.0</td>\n",
       "      <td>1.0</td>\n",
       "      <td>...</td>\n",
       "      <td>1.0</td>\n",
       "      <td>0.119183</td>\n",
       "      <td>1.0</td>\n",
       "      <td>0.0</td>\n",
       "      <td>0.0</td>\n",
       "      <td>0.0</td>\n",
       "      <td>0.0</td>\n",
       "      <td>0.0</td>\n",
       "      <td>0.0</td>\n",
       "      <td>1.0</td>\n",
       "    </tr>\n",
       "    <tr>\n",
       "      <th>...</th>\n",
       "      <td>...</td>\n",
       "      <td>...</td>\n",
       "      <td>...</td>\n",
       "      <td>...</td>\n",
       "      <td>...</td>\n",
       "      <td>...</td>\n",
       "      <td>...</td>\n",
       "      <td>...</td>\n",
       "      <td>...</td>\n",
       "      <td>...</td>\n",
       "      <td>...</td>\n",
       "      <td>...</td>\n",
       "      <td>...</td>\n",
       "      <td>...</td>\n",
       "      <td>...</td>\n",
       "      <td>...</td>\n",
       "      <td>...</td>\n",
       "      <td>...</td>\n",
       "      <td>...</td>\n",
       "      <td>...</td>\n",
       "      <td>...</td>\n",
       "    </tr>\n",
       "    <tr>\n",
       "      <th>9158</th>\n",
       "      <td>0.364583</td>\n",
       "      <td>1.0</td>\n",
       "      <td>1.0</td>\n",
       "      <td>1.0</td>\n",
       "      <td>1.0</td>\n",
       "      <td>1.0</td>\n",
       "      <td>1.0</td>\n",
       "      <td>1.0</td>\n",
       "      <td>1.0</td>\n",
       "      <td>1.0</td>\n",
       "      <td>...</td>\n",
       "      <td>1.0</td>\n",
       "      <td>0.076050</td>\n",
       "      <td>1.0</td>\n",
       "      <td>0.0</td>\n",
       "      <td>0.0</td>\n",
       "      <td>0.0</td>\n",
       "      <td>0.0</td>\n",
       "      <td>0.0</td>\n",
       "      <td>0.0</td>\n",
       "      <td>1.0</td>\n",
       "    </tr>\n",
       "    <tr>\n",
       "      <th>9160</th>\n",
       "      <td>0.406250</td>\n",
       "      <td>1.0</td>\n",
       "      <td>1.0</td>\n",
       "      <td>1.0</td>\n",
       "      <td>1.0</td>\n",
       "      <td>1.0</td>\n",
       "      <td>1.0</td>\n",
       "      <td>1.0</td>\n",
       "      <td>1.0</td>\n",
       "      <td>1.0</td>\n",
       "      <td>...</td>\n",
       "      <td>1.0</td>\n",
       "      <td>0.096481</td>\n",
       "      <td>1.0</td>\n",
       "      <td>0.0</td>\n",
       "      <td>0.0</td>\n",
       "      <td>0.0</td>\n",
       "      <td>0.0</td>\n",
       "      <td>0.0</td>\n",
       "      <td>0.0</td>\n",
       "      <td>1.0</td>\n",
       "    </tr>\n",
       "    <tr>\n",
       "      <th>9161</th>\n",
       "      <td>0.333333</td>\n",
       "      <td>1.0</td>\n",
       "      <td>1.0</td>\n",
       "      <td>1.0</td>\n",
       "      <td>1.0</td>\n",
       "      <td>1.0</td>\n",
       "      <td>1.0</td>\n",
       "      <td>1.0</td>\n",
       "      <td>1.0</td>\n",
       "      <td>1.0</td>\n",
       "      <td>...</td>\n",
       "      <td>1.0</td>\n",
       "      <td>0.130533</td>\n",
       "      <td>1.0</td>\n",
       "      <td>0.0</td>\n",
       "      <td>0.0</td>\n",
       "      <td>0.0</td>\n",
       "      <td>0.0</td>\n",
       "      <td>0.0</td>\n",
       "      <td>0.0</td>\n",
       "      <td>1.0</td>\n",
       "    </tr>\n",
       "    <tr>\n",
       "      <th>9166</th>\n",
       "      <td>0.479167</td>\n",
       "      <td>1.0</td>\n",
       "      <td>1.0</td>\n",
       "      <td>1.0</td>\n",
       "      <td>1.0</td>\n",
       "      <td>1.0</td>\n",
       "      <td>1.0</td>\n",
       "      <td>1.0</td>\n",
       "      <td>1.0</td>\n",
       "      <td>1.0</td>\n",
       "      <td>...</td>\n",
       "      <td>1.0</td>\n",
       "      <td>0.099886</td>\n",
       "      <td>1.0</td>\n",
       "      <td>0.0</td>\n",
       "      <td>0.0</td>\n",
       "      <td>0.0</td>\n",
       "      <td>0.0</td>\n",
       "      <td>0.0</td>\n",
       "      <td>0.0</td>\n",
       "      <td>1.0</td>\n",
       "    </tr>\n",
       "    <tr>\n",
       "      <th>9167</th>\n",
       "      <td>0.312500</td>\n",
       "      <td>0.0</td>\n",
       "      <td>1.0</td>\n",
       "      <td>1.0</td>\n",
       "      <td>1.0</td>\n",
       "      <td>1.0</td>\n",
       "      <td>1.0</td>\n",
       "      <td>0.0</td>\n",
       "      <td>1.0</td>\n",
       "      <td>1.0</td>\n",
       "      <td>...</td>\n",
       "      <td>1.0</td>\n",
       "      <td>0.073780</td>\n",
       "      <td>1.0</td>\n",
       "      <td>0.0</td>\n",
       "      <td>0.0</td>\n",
       "      <td>0.0</td>\n",
       "      <td>0.0</td>\n",
       "      <td>0.0</td>\n",
       "      <td>0.0</td>\n",
       "      <td>1.0</td>\n",
       "    </tr>\n",
       "  </tbody>\n",
       "</table>\n",
       "<p>5220 rows × 31 columns</p>\n",
       "</div>"
      ],
      "text/plain": [
       "           age  sex  on antithyroid medication  sick  pregnant  \\\n",
       "18    0.645833  1.0                        1.0   0.0       1.0   \n",
       "19    0.364583  1.0                        1.0   1.0       1.0   \n",
       "20    0.406250  1.0                        1.0   1.0       1.0   \n",
       "21    0.406250  1.0                        1.0   1.0       1.0   \n",
       "22    0.406250  1.0                        1.0   1.0       1.0   \n",
       "...        ...  ...                        ...   ...       ...   \n",
       "9158  0.364583  1.0                        1.0   1.0       1.0   \n",
       "9160  0.406250  1.0                        1.0   1.0       1.0   \n",
       "9161  0.333333  1.0                        1.0   1.0       1.0   \n",
       "9166  0.479167  1.0                        1.0   1.0       1.0   \n",
       "9167  0.312500  0.0                        1.0   1.0       1.0   \n",
       "\n",
       "      thyroid surgery  I131 treatment  query hypothyroid  query hyperthyroid  \\\n",
       "18                1.0             1.0                1.0                 1.0   \n",
       "19                1.0             1.0                0.0                 0.0   \n",
       "20                1.0             1.0                1.0                 1.0   \n",
       "21                1.0             1.0                1.0                 1.0   \n",
       "22                1.0             1.0                1.0                 1.0   \n",
       "...               ...             ...                ...                 ...   \n",
       "9158              1.0             1.0                1.0                 1.0   \n",
       "9160              1.0             1.0                1.0                 1.0   \n",
       "9161              1.0             1.0                1.0                 1.0   \n",
       "9166              1.0             1.0                1.0                 1.0   \n",
       "9167              1.0             1.0                0.0                 1.0   \n",
       "\n",
       "      lithium  ...  FTI measured       FTI  TBG measured  TBG  STMW  SVHC  \\\n",
       "18        1.0  ...           1.0  0.053348           1.0  0.0   0.0   0.0   \n",
       "19        1.0  ...           1.0  0.096481           1.0  0.0   0.0   0.0   \n",
       "20        1.0  ...           1.0  0.095346           1.0  0.0   0.0   0.0   \n",
       "21        1.0  ...           1.0  0.108967           1.0  0.0   0.0   0.0   \n",
       "22        1.0  ...           1.0  0.119183           1.0  0.0   0.0   0.0   \n",
       "...       ...  ...           ...       ...           ...  ...   ...   ...   \n",
       "9158      1.0  ...           1.0  0.076050           1.0  0.0   0.0   0.0   \n",
       "9160      1.0  ...           1.0  0.096481           1.0  0.0   0.0   0.0   \n",
       "9161      1.0  ...           1.0  0.130533           1.0  0.0   0.0   0.0   \n",
       "9166      1.0  ...           1.0  0.099886           1.0  0.0   0.0   0.0   \n",
       "9167      1.0  ...           1.0  0.073780           1.0  0.0   0.0   0.0   \n",
       "\n",
       "      SVHD  SVI  WEST  other  \n",
       "18     0.0  0.0   0.0    1.0  \n",
       "19     0.0  0.0   0.0    1.0  \n",
       "20     0.0  0.0   0.0    1.0  \n",
       "21     0.0  0.0   0.0    1.0  \n",
       "22     0.0  0.0   0.0    1.0  \n",
       "...    ...  ...   ...    ...  \n",
       "9158   0.0  0.0   0.0    1.0  \n",
       "9160   0.0  0.0   0.0    1.0  \n",
       "9161   0.0  0.0   0.0    1.0  \n",
       "9166   0.0  0.0   0.0    1.0  \n",
       "9167   0.0  0.0   0.0    1.0  \n",
       "\n",
       "[5220 rows x 31 columns]"
      ]
     },
     "execution_count": 133,
     "metadata": {},
     "output_type": "execute_result"
    }
   ],
   "source": [
    "X[hc_model.labels_==0]"
   ]
  },
  {
   "cell_type": "code",
   "execution_count": 134,
   "id": "million-mustang",
   "metadata": {},
   "outputs": [
    {
     "data": {
      "text/plain": [
       "0.5134798052362708"
      ]
     },
     "execution_count": 134,
     "metadata": {},
     "output_type": "execute_result"
    }
   ],
   "source": [
    "X[hc_model.labels_==0].age.mean()"
   ]
  },
  {
   "cell_type": "markdown",
   "id": "infinite-truck",
   "metadata": {},
   "source": [
    "### 20"
   ]
  },
  {
   "cell_type": "code",
   "execution_count": 135,
   "id": "entire-inventory",
   "metadata": {},
   "outputs": [
    {
     "data": {
      "text/plain": [
       "0.623709312144941"
      ]
     },
     "execution_count": 135,
     "metadata": {},
     "output_type": "execute_result"
    }
   ],
   "source": [
    "X[hc_model.labels_==1].age.mean()\n",
    "#Second is largest avarege"
   ]
  },
  {
   "cell_type": "code",
   "execution_count": 136,
   "id": "residential-dividend",
   "metadata": {},
   "outputs": [
    {
     "data": {
      "text/plain": [
       "0.4775293935643564"
      ]
     },
     "execution_count": 136,
     "metadata": {},
     "output_type": "execute_result"
    }
   ],
   "source": [
    "X[hc_model.labels_==2].age.mean()"
   ]
  },
  {
   "cell_type": "code",
   "execution_count": 137,
   "id": "insured-french",
   "metadata": {},
   "outputs": [
    {
     "data": {
      "text/plain": [
       "0.47444745442036457"
      ]
     },
     "execution_count": 137,
     "metadata": {},
     "output_type": "execute_result"
    }
   ],
   "source": [
    "X[hc_model.labels_==3].age.mean()"
   ]
  },
  {
   "cell_type": "markdown",
   "id": "instructional-chile",
   "metadata": {},
   "source": [
    "### 21"
   ]
  },
  {
   "cell_type": "code",
   "execution_count": 138,
   "id": "signal-labor",
   "metadata": {},
   "outputs": [],
   "source": [
    "from sklearn.cluster import KMeans\n",
    "model = KMeans(n_clusters= 4, random_state = 0)\n",
    "\n",
    "# Train the model\n",
    "model = model.fit(X)"
   ]
  },
  {
   "cell_type": "code",
   "execution_count": 139,
   "id": "heavy-slide",
   "metadata": {},
   "outputs": [
    {
     "name": "stdout",
     "output_type": "stream",
     "text": [
      "Counter({1: 5054, 2: 2387, 0: 1273, 3: 454})\n"
     ]
    }
   ],
   "source": [
    "print(Counter(model.labels_))\n",
    "#Number of columns"
   ]
  },
  {
   "cell_type": "code",
   "execution_count": 140,
   "id": "american-kinase",
   "metadata": {},
   "outputs": [
    {
     "data": {
      "text/plain": [
       "1    5054\n",
       "2    2387\n",
       "0    1273\n",
       "3     454\n",
       "dtype: int64"
      ]
     },
     "execution_count": 140,
     "metadata": {},
     "output_type": "execute_result"
    }
   ],
   "source": [
    "pd.DataFrame(model.labels_).value_counts()"
   ]
  },
  {
   "cell_type": "markdown",
   "id": "graphic-colon",
   "metadata": {},
   "source": [
    "### 22"
   ]
  },
  {
   "cell_type": "code",
   "execution_count": 141,
   "id": "mysterious-nerve",
   "metadata": {},
   "outputs": [
    {
     "data": {
      "text/plain": [
       "14074"
      ]
     },
     "execution_count": 141,
     "metadata": {},
     "output_type": "execute_result"
    }
   ],
   "source": [
    "X[model.labels_==3].size"
   ]
  },
  {
   "cell_type": "markdown",
   "id": "sized-story",
   "metadata": {},
   "source": [
    "### 23"
   ]
  },
  {
   "cell_type": "markdown",
   "id": "developing-encoding",
   "metadata": {},
   "source": [
    "As you can see in the results, we see one of the KMeans clusters has less than 5 percent of all records. This may raise the question that if the number of clusters = 4 is a good choice. Fortunately, there is an effective technique that helps us to choose the best number of clusters. For this purpose, we use a function called silhouette_score. Please more about this function at this link: https://scikit-learn.org/stable/modules/generated/sklearn.metrics.silhouette_score.html. Now run this function of KMeans model with random_state = 0 and n_clusters in the range(2,10). Which number of clusters has the highest silhouette_score. Enter the highest silhouette_score with THREE digits after the decimal point."
   ]
  },
  {
   "cell_type": "code",
   "execution_count": 142,
   "id": "auburn-sellers",
   "metadata": {},
   "outputs": [
    {
     "name": "stdout",
     "output_type": "stream",
     "text": [
      "Silhouetter Score: 0.347\n"
     ]
    }
   ],
   "source": [
    "#4 cluatrs\n",
    "from sklearn.metrics import silhouette_score\n",
    "score = silhouette_score(X, model.labels_)\n",
    "#\n",
    "# Print the score\n",
    "#\n",
    "print('Silhouetter Score: %.3f' % score)"
   ]
  },
  {
   "cell_type": "code",
   "execution_count": 143,
   "id": "capital-conditions",
   "metadata": {},
   "outputs": [],
   "source": [
    "#2 clusters "
   ]
  },
  {
   "cell_type": "code",
   "execution_count": 144,
   "id": "swedish-glory",
   "metadata": {},
   "outputs": [
    {
     "name": "stdout",
     "output_type": "stream",
     "text": [
      "Silhouetter Score: 0.272\n"
     ]
    }
   ],
   "source": [
    "model_2 = KMeans(n_clusters= 2, random_state = 0)\n",
    "\n",
    "# Train the model\n",
    "model_2 = model_2.fit(X)\n",
    "score = silhouette_score(X, model_2.labels_)\n",
    "#\n",
    "# Print the score\n",
    "#\n",
    "print('Silhouetter Score: %.3f' % score)"
   ]
  },
  {
   "cell_type": "code",
   "execution_count": 145,
   "id": "mineral-stress",
   "metadata": {},
   "outputs": [
    {
     "name": "stdout",
     "output_type": "stream",
     "text": [
      "Silhouetter Score: 0.299\n"
     ]
    }
   ],
   "source": [
    "model_3 = KMeans(n_clusters= 3, random_state = 0)\n",
    "\n",
    "# Train the model\n",
    "model_3 = model_3.fit(X)\n",
    "score = silhouette_score(X, model_3.labels_)\n",
    "#\n",
    "# Print the score\n",
    "#\n",
    "print('Silhouetter Score: %.3f' % score)"
   ]
  },
  {
   "cell_type": "code",
   "execution_count": 146,
   "id": "greenhouse-sauce",
   "metadata": {},
   "outputs": [
    {
     "name": "stdout",
     "output_type": "stream",
     "text": [
      "Silhouetter Score: 0.330\n"
     ]
    }
   ],
   "source": [
    "model_5 = KMeans(n_clusters= 5, random_state = 0)\n",
    "\n",
    "# Train the model\n",
    "model_5 = model_5.fit(X)\n",
    "score = silhouette_score(X, model_5.labels_)\n",
    "#\n",
    "# Print the score\n",
    "#\n",
    "print('Silhouetter Score: %.3f' % score)"
   ]
  },
  {
   "cell_type": "code",
   "execution_count": 147,
   "id": "marked-factor",
   "metadata": {},
   "outputs": [
    {
     "name": "stdout",
     "output_type": "stream",
     "text": [
      "Silhouetter Score: 0.339\n"
     ]
    }
   ],
   "source": [
    "model_6 = KMeans(n_clusters= 6, random_state = 0)\n",
    "\n",
    "# Train the model\n",
    "model_6 = model_6.fit(X)\n",
    "score = silhouette_score(X, model_6.labels_)\n",
    "#\n",
    "# Print the score\n",
    "#\n",
    "print('Silhouetter Score: %.3f' % score)"
   ]
  },
  {
   "cell_type": "code",
   "execution_count": 148,
   "id": "interesting-review",
   "metadata": {},
   "outputs": [
    {
     "name": "stdout",
     "output_type": "stream",
     "text": [
      "Silhouetter Score: 0.345\n"
     ]
    }
   ],
   "source": [
    "model_7 = KMeans(n_clusters= 7, random_state = 0)\n",
    "\n",
    "# Train the model\n",
    "model_7 = model_7.fit(X)\n",
    "score = silhouette_score(X, model_7.labels_)\n",
    "#\n",
    "# Print the score\n",
    "#\n",
    "print('Silhouetter Score: %.3f' % score)"
   ]
  },
  {
   "cell_type": "code",
   "execution_count": 149,
   "id": "complex-conservation",
   "metadata": {},
   "outputs": [
    {
     "name": "stdout",
     "output_type": "stream",
     "text": [
      "Silhouetter Score: 0.339\n"
     ]
    }
   ],
   "source": [
    "model_ = KMeans(n_clusters= 6, random_state = 0)\n",
    "\n",
    "# Train the model\n",
    "model_6 = model_6.fit(X)\n",
    "score = silhouette_score(X, model_6.labels_)\n",
    "#\n",
    "# Print the score\n",
    "#\n",
    "print('Silhouetter Score: %.3f' % score)"
   ]
  },
  {
   "cell_type": "code",
   "execution_count": 150,
   "id": "floppy-slovak",
   "metadata": {},
   "outputs": [
    {
     "name": "stdout",
     "output_type": "stream",
     "text": [
      "Silhouetter Score: 0.377\n"
     ]
    }
   ],
   "source": [
    "model_9 = KMeans(n_clusters= 9, random_state = 0)\n",
    "\n",
    "# Train the model\n",
    "model_9 = model_9 .fit_predict(X)\n",
    "score = silhouette_score(X, model_9)\n",
    "#\n",
    "# Print the score\n",
    "#\n",
    "print('Silhouetter Score: %.3f' % score)"
   ]
  },
  {
   "cell_type": "code",
   "execution_count": 151,
   "id": "altered-baseball",
   "metadata": {},
   "outputs": [
    {
     "name": "stdout",
     "output_type": "stream",
     "text": [
      "The cluster  2 \t has the score 0.2719937247094641\n",
      "The cluster  3 \t has the score 0.2991463147556667\n",
      "The cluster  4 \t has the score 0.34683837538057266\n",
      "The cluster  5 \t has the score 0.32995784326097727\n",
      "The cluster  6 \t has the score 0.33900475609900704\n",
      "The cluster  7 \t has the score 0.3450571311125254\n",
      "The cluster  8 \t has the score 0.37280991558631926\n",
      "The cluster  9 \t has the score 0.37699681182874883\n"
     ]
    }
   ],
   "source": [
    "for i in range(2,10):\n",
    "    model_10 = KMeans(n_clusters= i, random_state = 0)\n",
    "\n",
    "    # Train the model\n",
    "    model_10 = model_10.fit_predict(X)\n",
    "    score = silhouette_score(X, model_10)\n",
    "#\n",
    "    print(\"The cluster \",i,\"\\t has the score\", score)"
   ]
  },
  {
   "cell_type": "markdown",
   "id": "destroyed-israel",
   "metadata": {},
   "source": [
    "____________________\n",
    "### 24:\n",
    "##### 9 clusters "
   ]
  },
  {
   "cell_type": "code",
   "execution_count": null,
   "id": "instrumental-score",
   "metadata": {},
   "outputs": [],
   "source": []
  },
  {
   "cell_type": "code",
   "execution_count": null,
   "id": "invisible-tennis",
   "metadata": {},
   "outputs": [],
   "source": []
  }
 ],
 "metadata": {
  "kernelspec": {
   "display_name": "Python 3",
   "language": "python",
   "name": "python3"
  },
  "language_info": {
   "codemirror_mode": {
    "name": "ipython",
    "version": 3
   },
   "file_extension": ".py",
   "mimetype": "text/x-python",
   "name": "python",
   "nbconvert_exporter": "python",
   "pygments_lexer": "ipython3",
   "version": "3.9.1"
  }
 },
 "nbformat": 4,
 "nbformat_minor": 5
}
