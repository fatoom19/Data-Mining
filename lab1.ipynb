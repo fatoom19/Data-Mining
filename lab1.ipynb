{
 "cells": [
  {
   "cell_type": "code",
   "execution_count": 91,
   "id": "serial-neighbor",
   "metadata": {},
   "outputs": [],
   "source": [
    "import pandas as pd"
   ]
  },
  {
   "cell_type": "code",
   "execution_count": 92,
   "id": "portable-ridge",
   "metadata": {},
   "outputs": [],
   "source": [
    "df = pd.read_csv('thyroid.csv')"
   ]
  },
  {
   "cell_type": "code",
   "execution_count": 93,
   "id": "difficult-visiting",
   "metadata": {},
   "outputs": [
    {
     "data": {
      "text/plain": [
       "(9172, 30)"
      ]
     },
     "execution_count": 93,
     "metadata": {},
     "output_type": "execute_result"
    }
   ],
   "source": [
    "df.shape"
   ]
  },
  {
   "cell_type": "code",
   "execution_count": 94,
   "id": "induced-laundry",
   "metadata": {},
   "outputs": [
    {
     "data": {
      "text/html": [
       "<div>\n",
       "<style scoped>\n",
       "    .dataframe tbody tr th:only-of-type {\n",
       "        vertical-align: middle;\n",
       "    }\n",
       "\n",
       "    .dataframe tbody tr th {\n",
       "        vertical-align: top;\n",
       "    }\n",
       "\n",
       "    .dataframe thead th {\n",
       "        text-align: right;\n",
       "    }\n",
       "</style>\n",
       "<table border=\"1\" class=\"dataframe\">\n",
       "  <thead>\n",
       "    <tr style=\"text-align: right;\">\n",
       "      <th></th>\n",
       "      <th>age</th>\n",
       "      <th>sex</th>\n",
       "      <th>on thyroxine</th>\n",
       "      <th>query on thyroxine</th>\n",
       "      <th>on antithyroid medication</th>\n",
       "      <th>sick</th>\n",
       "      <th>pregnant</th>\n",
       "      <th>thyroid surgery</th>\n",
       "      <th>I131 treatment</th>\n",
       "      <th>query hypothyroid</th>\n",
       "      <th>...</th>\n",
       "      <th>TT4 measured</th>\n",
       "      <th>TT4</th>\n",
       "      <th>T4U measured</th>\n",
       "      <th>T4U</th>\n",
       "      <th>FTI measured</th>\n",
       "      <th>FTI</th>\n",
       "      <th>TBG measured</th>\n",
       "      <th>TBG</th>\n",
       "      <th>referral source</th>\n",
       "      <th>y</th>\n",
       "    </tr>\n",
       "  </thead>\n",
       "  <tbody>\n",
       "    <tr>\n",
       "      <th>0</th>\n",
       "      <td>29</td>\n",
       "      <td>F</td>\n",
       "      <td>f</td>\n",
       "      <td>f</td>\n",
       "      <td>f</td>\n",
       "      <td>f</td>\n",
       "      <td>f</td>\n",
       "      <td>f</td>\n",
       "      <td>f</td>\n",
       "      <td>t</td>\n",
       "      <td>...</td>\n",
       "      <td>f</td>\n",
       "      <td>?</td>\n",
       "      <td>f</td>\n",
       "      <td>?</td>\n",
       "      <td>f</td>\n",
       "      <td>?</td>\n",
       "      <td>f</td>\n",
       "      <td>?</td>\n",
       "      <td>other</td>\n",
       "      <td>0</td>\n",
       "    </tr>\n",
       "    <tr>\n",
       "      <th>1</th>\n",
       "      <td>29</td>\n",
       "      <td>F</td>\n",
       "      <td>f</td>\n",
       "      <td>f</td>\n",
       "      <td>f</td>\n",
       "      <td>f</td>\n",
       "      <td>f</td>\n",
       "      <td>f</td>\n",
       "      <td>f</td>\n",
       "      <td>f</td>\n",
       "      <td>...</td>\n",
       "      <td>t</td>\n",
       "      <td>128</td>\n",
       "      <td>f</td>\n",
       "      <td>?</td>\n",
       "      <td>f</td>\n",
       "      <td>?</td>\n",
       "      <td>f</td>\n",
       "      <td>?</td>\n",
       "      <td>other</td>\n",
       "      <td>0</td>\n",
       "    </tr>\n",
       "    <tr>\n",
       "      <th>2</th>\n",
       "      <td>41</td>\n",
       "      <td>F</td>\n",
       "      <td>f</td>\n",
       "      <td>f</td>\n",
       "      <td>f</td>\n",
       "      <td>f</td>\n",
       "      <td>f</td>\n",
       "      <td>f</td>\n",
       "      <td>f</td>\n",
       "      <td>f</td>\n",
       "      <td>...</td>\n",
       "      <td>f</td>\n",
       "      <td>?</td>\n",
       "      <td>f</td>\n",
       "      <td>?</td>\n",
       "      <td>f</td>\n",
       "      <td>?</td>\n",
       "      <td>t</td>\n",
       "      <td>11</td>\n",
       "      <td>other</td>\n",
       "      <td>0</td>\n",
       "    </tr>\n",
       "    <tr>\n",
       "      <th>3</th>\n",
       "      <td>36</td>\n",
       "      <td>F</td>\n",
       "      <td>f</td>\n",
       "      <td>f</td>\n",
       "      <td>f</td>\n",
       "      <td>f</td>\n",
       "      <td>f</td>\n",
       "      <td>f</td>\n",
       "      <td>f</td>\n",
       "      <td>f</td>\n",
       "      <td>...</td>\n",
       "      <td>f</td>\n",
       "      <td>?</td>\n",
       "      <td>f</td>\n",
       "      <td>?</td>\n",
       "      <td>f</td>\n",
       "      <td>?</td>\n",
       "      <td>t</td>\n",
       "      <td>26</td>\n",
       "      <td>other</td>\n",
       "      <td>0</td>\n",
       "    </tr>\n",
       "    <tr>\n",
       "      <th>4</th>\n",
       "      <td>32</td>\n",
       "      <td>F</td>\n",
       "      <td>f</td>\n",
       "      <td>f</td>\n",
       "      <td>f</td>\n",
       "      <td>f</td>\n",
       "      <td>f</td>\n",
       "      <td>f</td>\n",
       "      <td>f</td>\n",
       "      <td>f</td>\n",
       "      <td>...</td>\n",
       "      <td>f</td>\n",
       "      <td>?</td>\n",
       "      <td>f</td>\n",
       "      <td>?</td>\n",
       "      <td>f</td>\n",
       "      <td>?</td>\n",
       "      <td>t</td>\n",
       "      <td>36</td>\n",
       "      <td>other</td>\n",
       "      <td>1</td>\n",
       "    </tr>\n",
       "  </tbody>\n",
       "</table>\n",
       "<p>5 rows × 30 columns</p>\n",
       "</div>"
      ],
      "text/plain": [
       "   age sex on thyroxine query on thyroxine on antithyroid medication sick  \\\n",
       "0   29   F            f                  f                         f    f   \n",
       "1   29   F            f                  f                         f    f   \n",
       "2   41   F            f                  f                         f    f   \n",
       "3   36   F            f                  f                         f    f   \n",
       "4   32   F            f                  f                         f    f   \n",
       "\n",
       "  pregnant thyroid surgery I131 treatment query hypothyroid  ... TT4 measured  \\\n",
       "0        f               f              f                 t  ...            f   \n",
       "1        f               f              f                 f  ...            t   \n",
       "2        f               f              f                 f  ...            f   \n",
       "3        f               f              f                 f  ...            f   \n",
       "4        f               f              f                 f  ...            f   \n",
       "\n",
       "   TT4 T4U measured T4U FTI measured FTI TBG measured TBG referral source  y  \n",
       "0    ?            f   ?            f   ?            f   ?           other  0  \n",
       "1  128            f   ?            f   ?            f   ?           other  0  \n",
       "2    ?            f   ?            f   ?            t  11           other  0  \n",
       "3    ?            f   ?            f   ?            t  26           other  0  \n",
       "4    ?            f   ?            f   ?            t  36           other  1  \n",
       "\n",
       "[5 rows x 30 columns]"
      ]
     },
     "execution_count": 94,
     "metadata": {},
     "output_type": "execute_result"
    }
   ],
   "source": [
    "df.head()"
   ]
  },
  {
   "cell_type": "markdown",
   "id": "loved-essex",
   "metadata": {},
   "source": [
    "What percentage of instances in this data frame has value 1 in the column ``y``? Enter the answer as a value between 0 and 100, and two digits after the decimal point and without the percent sign."
   ]
  },
  {
   "cell_type": "code",
   "execution_count": 95,
   "id": "brazilian-affiliate",
   "metadata": {},
   "outputs": [
    {
     "data": {
      "text/plain": [
       "0    73.822503\n",
       "1    26.177497\n",
       "Name: y, dtype: float64"
      ]
     },
     "execution_count": 95,
     "metadata": {},
     "output_type": "execute_result"
    }
   ],
   "source": [
    "df['y'].value_counts(normalize=True) * 100"
   ]
  },
  {
   "cell_type": "code",
   "execution_count": 96,
   "id": "electrical-place",
   "metadata": {},
   "outputs": [
    {
     "data": {
      "text/plain": [
       "F    66.212386\n",
       "M    30.440471\n",
       "?     3.347143\n",
       "Name: sex, dtype: float64"
      ]
     },
     "execution_count": 96,
     "metadata": {},
     "output_type": "execute_result"
    }
   ],
   "source": [
    "df['sex'].value_counts(normalize=True) * 100"
   ]
  },
  {
   "cell_type": "markdown",
   "id": "atmospheric-genesis",
   "metadata": {},
   "source": [
    "What is the average age of all patients in this data frame? Enter the answer with two digits after the decimal point.\n"
   ]
  },
  {
   "cell_type": "code",
   "execution_count": 97,
   "id": "first-satin",
   "metadata": {},
   "outputs": [
    {
     "data": {
      "text/plain": [
       "73.55582206716092"
      ]
     },
     "execution_count": 97,
     "metadata": {},
     "output_type": "execute_result"
    }
   ],
   "source": [
    "import numpy as np\n",
    "np.mean(df['age'])"
   ]
  },
  {
   "cell_type": "markdown",
   "id": "curious-mexico",
   "metadata": {},
   "source": [
    "How many unique values are in the column referral source?"
   ]
  },
  {
   "cell_type": "code",
   "execution_count": 98,
   "id": "brutal-slave",
   "metadata": {},
   "outputs": [
    {
     "data": {
      "text/plain": [
       "6"
      ]
     },
     "execution_count": 98,
     "metadata": {},
     "output_type": "execute_result"
    }
   ],
   "source": [
    "df['referral source'].nunique()"
   ]
  },
  {
   "cell_type": "markdown",
   "id": "spread-aruba",
   "metadata": {},
   "source": [
    "Which class in the column referral source has the highest frequency?"
   ]
  },
  {
   "cell_type": "code",
   "execution_count": 99,
   "id": "operating-elder",
   "metadata": {},
   "outputs": [
    {
     "data": {
      "text/plain": [
       "0    other\n",
       "dtype: object"
      ]
     },
     "execution_count": 99,
     "metadata": {},
     "output_type": "execute_result"
    }
   ],
   "source": [
    "df['referral source'].mode()"
   ]
  },
  {
   "cell_type": "code",
   "execution_count": 100,
   "id": "apparent-certification",
   "metadata": {},
   "outputs": [
    {
     "data": {
      "text/plain": [
       "'other'"
      ]
     },
     "execution_count": 100,
     "metadata": {},
     "output_type": "execute_result"
    }
   ],
   "source": [
    "import statistics\n",
    "from statistics import mode\n",
    "mode(df['referral source'])"
   ]
  },
  {
   "cell_type": "markdown",
   "id": "black-drawing",
   "metadata": {},
   "source": [
    "Now, replace all the sentinel values with np.nan. What percentage of all cells is marked with np.nan? Enter the answer as a value between 0 and 100, and two digits after the decimal point and without the percent sign."
   ]
  },
  {
   "cell_type": "code",
   "execution_count": 101,
   "id": "german-blood",
   "metadata": {},
   "outputs": [],
   "source": [
    "df= df.replace('?', np.nan )"
   ]
  },
  {
   "cell_type": "code",
   "execution_count": 102,
   "id": "pleased-haiti",
   "metadata": {},
   "outputs": [
    {
     "data": {
      "text/plain": [
       "5.316543102195086"
      ]
     },
     "execution_count": 102,
     "metadata": {},
     "output_type": "execute_result"
    }
   ],
   "source": [
    "df.isnull().sum().sum()/ df.size *100"
   ]
  },
  {
   "cell_type": "markdown",
   "id": "unlike-biography",
   "metadata": {},
   "source": [
    "#What percentage of the rows in this data frame have at least one attribute flagged as a missing value. cEnter the answer as a value between 0 and 100, and two digits after the decimal point and without the percent sign."
   ]
  },
  {
   "cell_type": "code",
   "execution_count": 103,
   "id": "forward-value",
   "metadata": {},
   "outputs": [
    {
     "data": {
      "text/plain": [
       "99.78194505015264"
      ]
     },
     "execution_count": 103,
     "metadata": {},
     "output_type": "execute_result"
    }
   ],
   "source": [
    "#10\n",
    "sum([True for idx,row in df.iterrows() if any(row.isnull())])/len(df)*100"
   ]
  },
  {
   "cell_type": "code",
   "execution_count": 123,
   "id": "american-chart",
   "metadata": {},
   "outputs": [
    {
     "data": {
      "text/plain": [
       "1.561491495856956"
      ]
     },
     "execution_count": 123,
     "metadata": {},
     "output_type": "execute_result"
    }
   ],
   "source": [
    "#11\n",
    "df.isna().sum().sum()/len(df)"
   ]
  },
  {
   "cell_type": "code",
   "execution_count": 105,
   "id": "declared-glory",
   "metadata": {},
   "outputs": [
    {
     "data": {
      "text/plain": [
       "0    F\n",
       "dtype: object"
      ]
     },
     "execution_count": 105,
     "metadata": {},
     "output_type": "execute_result"
    }
   ],
   "source": [
    "#12\n",
    "df['sex'].mode()"
   ]
  },
  {
   "cell_type": "code",
   "execution_count": 106,
   "id": "veterinary-destination",
   "metadata": {},
   "outputs": [],
   "source": [
    "df['sex'] = df['sex'].replace(np.nan, 'F')"
   ]
  },
  {
   "cell_type": "code",
   "execution_count": 107,
   "id": "artificial-vacuum",
   "metadata": {},
   "outputs": [
    {
     "data": {
      "text/plain": [
       "0"
      ]
     },
     "execution_count": 107,
     "metadata": {},
     "output_type": "execute_result"
    }
   ],
   "source": [
    "df['sex'].isnull().sum()"
   ]
  },
  {
   "cell_type": "code",
   "execution_count": 108,
   "id": "devoted-interpretation",
   "metadata": {},
   "outputs": [],
   "source": [
    "df['sex'] = df['sex'].replace('F', 1)\n",
    "df['sex'] = df['sex'].replace('M', 0)"
   ]
  },
  {
   "cell_type": "code",
   "execution_count": 109,
   "id": "expanded-literacy",
   "metadata": {},
   "outputs": [
    {
     "data": {
      "text/plain": [
       "0.6955952900130833"
      ]
     },
     "execution_count": 109,
     "metadata": {},
     "output_type": "execute_result"
    }
   ],
   "source": [
    "df['sex'].mean()"
   ]
  },
  {
   "cell_type": "code",
   "execution_count": 110,
   "id": "touched-homework",
   "metadata": {},
   "outputs": [
    {
     "ename": "KeyError",
     "evalue": "('on thyroxine', 'on thyroxine')",
     "output_type": "error",
     "traceback": [
      "\u001b[1;31m---------------------------------------------------------------------------\u001b[0m",
      "\u001b[1;31mKeyError\u001b[0m                                  Traceback (most recent call last)",
      "\u001b[1;32mc:\\users\\fatoo\\appdata\\local\\programs\\python\\python39\\lib\\site-packages\\pandas\\core\\indexes\\base.py\u001b[0m in \u001b[0;36mget_loc\u001b[1;34m(self, key, method, tolerance)\u001b[0m\n\u001b[0;32m   3079\u001b[0m             \u001b[1;32mtry\u001b[0m\u001b[1;33m:\u001b[0m\u001b[1;33m\u001b[0m\u001b[1;33m\u001b[0m\u001b[0m\n\u001b[1;32m-> 3080\u001b[1;33m                 \u001b[1;32mreturn\u001b[0m \u001b[0mself\u001b[0m\u001b[1;33m.\u001b[0m\u001b[0m_engine\u001b[0m\u001b[1;33m.\u001b[0m\u001b[0mget_loc\u001b[0m\u001b[1;33m(\u001b[0m\u001b[0mcasted_key\u001b[0m\u001b[1;33m)\u001b[0m\u001b[1;33m\u001b[0m\u001b[1;33m\u001b[0m\u001b[0m\n\u001b[0m\u001b[0;32m   3081\u001b[0m             \u001b[1;32mexcept\u001b[0m \u001b[0mKeyError\u001b[0m \u001b[1;32mas\u001b[0m \u001b[0merr\u001b[0m\u001b[1;33m:\u001b[0m\u001b[1;33m\u001b[0m\u001b[1;33m\u001b[0m\u001b[0m\n",
      "\u001b[1;32mpandas\\_libs\\index.pyx\u001b[0m in \u001b[0;36mpandas._libs.index.IndexEngine.get_loc\u001b[1;34m()\u001b[0m\n",
      "\u001b[1;32mpandas\\_libs\\index.pyx\u001b[0m in \u001b[0;36mpandas._libs.index.IndexEngine.get_loc\u001b[1;34m()\u001b[0m\n",
      "\u001b[1;32mpandas\\_libs\\hashtable_class_helper.pxi\u001b[0m in \u001b[0;36mpandas._libs.hashtable.PyObjectHashTable.get_item\u001b[1;34m()\u001b[0m\n",
      "\u001b[1;32mpandas\\_libs\\hashtable_class_helper.pxi\u001b[0m in \u001b[0;36mpandas._libs.hashtable.PyObjectHashTable.get_item\u001b[1;34m()\u001b[0m\n",
      "\u001b[1;31mKeyError\u001b[0m: ('on thyroxine', 'on thyroxine')",
      "\nThe above exception was the direct cause of the following exception:\n",
      "\u001b[1;31mKeyError\u001b[0m                                  Traceback (most recent call last)",
      "\u001b[1;32m<ipython-input-110-d6014e4eac77>\u001b[0m in \u001b[0;36m<module>\u001b[1;34m\u001b[0m\n\u001b[0;32m      1\u001b[0m \u001b[1;31m#13\u001b[0m\u001b[1;33m\u001b[0m\u001b[1;33m\u001b[0m\u001b[1;33m\u001b[0m\u001b[0m\n\u001b[1;32m----> 2\u001b[1;33m \u001b[0mdf\u001b[0m\u001b[1;33m[\u001b[0m\u001b[1;34m'on thyroxine'\u001b[0m\u001b[1;33m,\u001b[0m\u001b[1;34m'on thyroxine'\u001b[0m\u001b[1;33m]\u001b[0m\u001b[1;33m.\u001b[0m\u001b[0munique\u001b[0m\u001b[1;33m(\u001b[0m\u001b[1;33m)\u001b[0m\u001b[1;33m\u001b[0m\u001b[1;33m\u001b[0m\u001b[0m\n\u001b[0m",
      "\u001b[1;32mc:\\users\\fatoo\\appdata\\local\\programs\\python\\python39\\lib\\site-packages\\pandas\\core\\frame.py\u001b[0m in \u001b[0;36m__getitem__\u001b[1;34m(self, key)\u001b[0m\n\u001b[0;32m   3022\u001b[0m             \u001b[1;32mif\u001b[0m \u001b[0mself\u001b[0m\u001b[1;33m.\u001b[0m\u001b[0mcolumns\u001b[0m\u001b[1;33m.\u001b[0m\u001b[0mnlevels\u001b[0m \u001b[1;33m>\u001b[0m \u001b[1;36m1\u001b[0m\u001b[1;33m:\u001b[0m\u001b[1;33m\u001b[0m\u001b[1;33m\u001b[0m\u001b[0m\n\u001b[0;32m   3023\u001b[0m                 \u001b[1;32mreturn\u001b[0m \u001b[0mself\u001b[0m\u001b[1;33m.\u001b[0m\u001b[0m_getitem_multilevel\u001b[0m\u001b[1;33m(\u001b[0m\u001b[0mkey\u001b[0m\u001b[1;33m)\u001b[0m\u001b[1;33m\u001b[0m\u001b[1;33m\u001b[0m\u001b[0m\n\u001b[1;32m-> 3024\u001b[1;33m             \u001b[0mindexer\u001b[0m \u001b[1;33m=\u001b[0m \u001b[0mself\u001b[0m\u001b[1;33m.\u001b[0m\u001b[0mcolumns\u001b[0m\u001b[1;33m.\u001b[0m\u001b[0mget_loc\u001b[0m\u001b[1;33m(\u001b[0m\u001b[0mkey\u001b[0m\u001b[1;33m)\u001b[0m\u001b[1;33m\u001b[0m\u001b[1;33m\u001b[0m\u001b[0m\n\u001b[0m\u001b[0;32m   3025\u001b[0m             \u001b[1;32mif\u001b[0m \u001b[0mis_integer\u001b[0m\u001b[1;33m(\u001b[0m\u001b[0mindexer\u001b[0m\u001b[1;33m)\u001b[0m\u001b[1;33m:\u001b[0m\u001b[1;33m\u001b[0m\u001b[1;33m\u001b[0m\u001b[0m\n\u001b[0;32m   3026\u001b[0m                 \u001b[0mindexer\u001b[0m \u001b[1;33m=\u001b[0m \u001b[1;33m[\u001b[0m\u001b[0mindexer\u001b[0m\u001b[1;33m]\u001b[0m\u001b[1;33m\u001b[0m\u001b[1;33m\u001b[0m\u001b[0m\n",
      "\u001b[1;32mc:\\users\\fatoo\\appdata\\local\\programs\\python\\python39\\lib\\site-packages\\pandas\\core\\indexes\\base.py\u001b[0m in \u001b[0;36mget_loc\u001b[1;34m(self, key, method, tolerance)\u001b[0m\n\u001b[0;32m   3080\u001b[0m                 \u001b[1;32mreturn\u001b[0m \u001b[0mself\u001b[0m\u001b[1;33m.\u001b[0m\u001b[0m_engine\u001b[0m\u001b[1;33m.\u001b[0m\u001b[0mget_loc\u001b[0m\u001b[1;33m(\u001b[0m\u001b[0mcasted_key\u001b[0m\u001b[1;33m)\u001b[0m\u001b[1;33m\u001b[0m\u001b[1;33m\u001b[0m\u001b[0m\n\u001b[0;32m   3081\u001b[0m             \u001b[1;32mexcept\u001b[0m \u001b[0mKeyError\u001b[0m \u001b[1;32mas\u001b[0m \u001b[0merr\u001b[0m\u001b[1;33m:\u001b[0m\u001b[1;33m\u001b[0m\u001b[1;33m\u001b[0m\u001b[0m\n\u001b[1;32m-> 3082\u001b[1;33m                 \u001b[1;32mraise\u001b[0m \u001b[0mKeyError\u001b[0m\u001b[1;33m(\u001b[0m\u001b[0mkey\u001b[0m\u001b[1;33m)\u001b[0m \u001b[1;32mfrom\u001b[0m \u001b[0merr\u001b[0m\u001b[1;33m\u001b[0m\u001b[1;33m\u001b[0m\u001b[0m\n\u001b[0m\u001b[0;32m   3083\u001b[0m \u001b[1;33m\u001b[0m\u001b[0m\n\u001b[0;32m   3084\u001b[0m         \u001b[1;32mif\u001b[0m \u001b[0mtolerance\u001b[0m \u001b[1;32mis\u001b[0m \u001b[1;32mnot\u001b[0m \u001b[1;32mNone\u001b[0m\u001b[1;33m:\u001b[0m\u001b[1;33m\u001b[0m\u001b[1;33m\u001b[0m\u001b[0m\n",
      "\u001b[1;31mKeyError\u001b[0m: ('on thyroxine', 'on thyroxine')"
     ]
    }
   ],
   "source": [
    "#13\n",
    "df['on thyroxine','on thyroxine'].unique()"
   ]
  },
  {
   "cell_type": "code",
   "execution_count": 111,
   "id": "distributed-secretariat",
   "metadata": {},
   "outputs": [
    {
     "data": {
      "text/plain": [
       "array(['f', 't'], dtype=object)"
      ]
     },
     "execution_count": 111,
     "metadata": {},
     "output_type": "execute_result"
    }
   ],
   "source": [
    "df['query on thyroxine'].unique()"
   ]
  },
  {
   "cell_type": "code",
   "execution_count": 112,
   "id": "banner-patch",
   "metadata": {},
   "outputs": [],
   "source": [
    "#14\n",
    "df= df.drop( ['query on thyroxine','on thyroxine'], axis=1)"
   ]
  },
  {
   "cell_type": "code",
   "execution_count": 113,
   "id": "constitutional-distribution",
   "metadata": {},
   "outputs": [
    {
     "data": {
      "text/plain": [
       "(9172, 28)"
      ]
     },
     "execution_count": 113,
     "metadata": {},
     "output_type": "execute_result"
    }
   ],
   "source": [
    "df.shape"
   ]
  },
  {
   "cell_type": "markdown",
   "id": "turkish-cooling",
   "metadata": {},
   "source": [
    "#15\n",
    "Apply a proper data transformation on the columns 'on antithyroid medication' and 'sick' to transform them into numerical columns. Then use a correlation function np.corrcoef to find the linear correlation coefficient of these two columns. You can read about this function here[https://numpy.org/doc/stable/reference/generated/numpy.corrcoef.html]. Enter the correlation coefficient with two digits after the decimal point."
   ]
  },
  {
   "cell_type": "code",
   "execution_count": 114,
   "id": "ranging-projector",
   "metadata": {},
   "outputs": [],
   "source": [
    "df['on antithyroid medication'].unique()\n",
    "df['on antithyroid medication'] = df['on antithyroid medication'].replace('t', 1)\n",
    "df['on antithyroid medication'] = df['on antithyroid medication'].replace('f', 0)"
   ]
  },
  {
   "cell_type": "code",
   "execution_count": 115,
   "id": "indie-ministry",
   "metadata": {},
   "outputs": [
    {
     "data": {
      "text/plain": [
       "1"
      ]
     },
     "execution_count": 115,
     "metadata": {},
     "output_type": "execute_result"
    }
   ],
   "source": [
    "df['sick'] = df['sick'].replace('t', 1)\n",
    "df['sick'] = df['sick'].replace('f', 0)\n",
    "df['sick'].max()"
   ]
  },
  {
   "cell_type": "code",
   "execution_count": 116,
   "id": "informative-museum",
   "metadata": {},
   "outputs": [],
   "source": [
    "x=df['on antithyroid medication'] \n",
    "y=df['sick']"
   ]
  },
  {
   "cell_type": "code",
   "execution_count": 117,
   "id": "acute-minnesota",
   "metadata": {},
   "outputs": [
    {
     "data": {
      "text/plain": [
       "array([[ 1.        , -0.02234132],\n",
       "       [-0.02234132,  1.        ]])"
      ]
     },
     "execution_count": 117,
     "metadata": {},
     "output_type": "execute_result"
    }
   ],
   "source": [
    "np.corrcoef(x,y)"
   ]
  },
  {
   "cell_type": "code",
   "execution_count": 118,
   "id": "surprising-algeria",
   "metadata": {},
   "outputs": [],
   "source": [
    "correlation = x.corr(y)"
   ]
  },
  {
   "cell_type": "code",
   "execution_count": 119,
   "id": "established-hacker",
   "metadata": {},
   "outputs": [
    {
     "data": {
      "text/plain": [
       "-0.0223413209065432"
      ]
     },
     "execution_count": 119,
     "metadata": {},
     "output_type": "execute_result"
    }
   ],
   "source": [
    "correlation"
   ]
  },
  {
   "cell_type": "code",
   "execution_count": 120,
   "id": "instant-baptist",
   "metadata": {},
   "outputs": [
    {
     "data": {
      "text/plain": [
       "f    9003\n",
       "t     169\n",
       "Name: I131 treatment, dtype: int64"
      ]
     },
     "execution_count": 120,
     "metadata": {},
     "output_type": "execute_result"
    }
   ],
   "source": [
    "#16\n",
    "df['I131 treatment'].value_counts()"
   ]
  },
  {
   "cell_type": "code",
   "execution_count": 121,
   "id": "variable-astronomy",
   "metadata": {},
   "outputs": [
    {
     "data": {
      "text/plain": [
       "f    9038\n",
       "t     134\n",
       "Name: thyroid surgery, dtype: int64"
      ]
     },
     "execution_count": 121,
     "metadata": {},
     "output_type": "execute_result"
    }
   ],
   "source": [
    "#17\n",
    "df['thyroid surgery'].value_counts()"
   ]
  },
  {
   "cell_type": "code",
   "execution_count": 122,
   "id": "twelve-fourth",
   "metadata": {},
   "outputs": [
    {
     "data": {
      "text/plain": [
       "f    9065\n",
       "t     107\n",
       "Name: pregnant, dtype: int64"
      ]
     },
     "execution_count": 122,
     "metadata": {},
     "output_type": "execute_result"
    }
   ],
   "source": [
    "#18\n",
    "df['pregnant'].value_counts()"
   ]
  },
  {
   "cell_type": "code",
   "execution_count": 77,
   "id": "turkish-nightmare",
   "metadata": {},
   "outputs": [
    {
     "data": {
      "text/plain": [
       "f    8521\n",
       "t     651\n",
       "Name: query hyperthyroid, dtype: int64"
      ]
     },
     "execution_count": 77,
     "metadata": {},
     "output_type": "execute_result"
    }
   ],
   "source": [
    "#19\n",
    "df['query hyperthyroid'].value_counts()"
   ]
  },
  {
   "cell_type": "code",
   "execution_count": 78,
   "id": "prescription-thing",
   "metadata": {},
   "outputs": [
    {
     "data": {
      "text/plain": [
       "f    9079\n",
       "t      93\n",
       "Name: lithium, dtype: int64"
      ]
     },
     "execution_count": 78,
     "metadata": {},
     "output_type": "execute_result"
    }
   ],
   "source": [
    "\n",
    "#21\n",
    "df['lithium'].value_counts()"
   ]
  },
  {
   "cell_type": "code",
   "execution_count": 79,
   "id": "collected-universal",
   "metadata": {},
   "outputs": [
    {
     "data": {
      "text/plain": [
       "f    9088\n",
       "t      84\n",
       "Name: goitre, dtype: int64"
      ]
     },
     "execution_count": 79,
     "metadata": {},
     "output_type": "execute_result"
    }
   ],
   "source": [
    "#21\n",
    "df['goitre'].value_counts()"
   ]
  },
  {
   "cell_type": "code",
   "execution_count": 80,
   "id": "undefined-heating",
   "metadata": {},
   "outputs": [
    {
     "data": {
      "text/plain": [
       "f    8931\n",
       "t     241\n",
       "Name: tumor, dtype: int64"
      ]
     },
     "execution_count": 80,
     "metadata": {},
     "output_type": "execute_result"
    }
   ],
   "source": [
    "df['tumor'].value_counts()"
   ]
  },
  {
   "cell_type": "code",
   "execution_count": 81,
   "id": "armed-verification",
   "metadata": {},
   "outputs": [
    {
     "data": {
      "text/plain": [
       "f    9170\n",
       "t       2\n",
       "Name: hypopituitary, dtype: int64"
      ]
     },
     "execution_count": 81,
     "metadata": {},
     "output_type": "execute_result"
    }
   ],
   "source": [
    "df['hypopituitary'].value_counts()"
   ]
  },
  {
   "cell_type": "code",
   "execution_count": 82,
   "id": "linear-timeline",
   "metadata": {},
   "outputs": [
    {
     "data": {
      "text/plain": [
       "f    8754\n",
       "t     418\n",
       "Name: psych, dtype: int64"
      ]
     },
     "execution_count": 82,
     "metadata": {},
     "output_type": "execute_result"
    }
   ],
   "source": [
    "df['psych'].value_counts()"
   ]
  },
  {
   "cell_type": "code",
   "execution_count": 83,
   "id": "speaking-shame",
   "metadata": {},
   "outputs": [
    {
     "data": {
      "text/plain": [
       "t    8330\n",
       "f     842\n",
       "Name: TSH measured, dtype: int64"
      ]
     },
     "execution_count": 83,
     "metadata": {},
     "output_type": "execute_result"
    }
   ],
   "source": [
    "df['TSH measured'].value_counts()"
   ]
  },
  {
   "cell_type": "code",
   "execution_count": 84,
   "id": "provincial-functionality",
   "metadata": {},
   "outputs": [],
   "source": [
    "df['TSH']= df['TSH'].replace(np.nan,0)"
   ]
  },
  {
   "cell_type": "code",
   "execution_count": 85,
   "id": "administrative-activation",
   "metadata": {},
   "outputs": [],
   "source": [
    "#27\n",
    "df['TSH']= pd.to_numeric(df['TSH'])"
   ]
  },
  {
   "cell_type": "code",
   "execution_count": 86,
   "id": "impressed-regular",
   "metadata": {},
   "outputs": [
    {
     "data": {
      "text/plain": [
       "4.739347463911906"
      ]
     },
     "execution_count": 86,
     "metadata": {},
     "output_type": "execute_result"
    }
   ],
   "source": [
    "df['TSH'].mean()"
   ]
  },
  {
   "cell_type": "code",
   "execution_count": 87,
   "id": "weekly-richmond",
   "metadata": {},
   "outputs": [
    {
     "data": {
      "text/html": [
       "<div>\n",
       "<style scoped>\n",
       "    .dataframe tbody tr th:only-of-type {\n",
       "        vertical-align: middle;\n",
       "    }\n",
       "\n",
       "    .dataframe tbody tr th {\n",
       "        vertical-align: top;\n",
       "    }\n",
       "\n",
       "    .dataframe thead th {\n",
       "        text-align: right;\n",
       "    }\n",
       "</style>\n",
       "<table border=\"1\" class=\"dataframe\">\n",
       "  <thead>\n",
       "    <tr style=\"text-align: right;\">\n",
       "      <th></th>\n",
       "      <th>pregnant</th>\n",
       "      <th>thyroid surgery</th>\n",
       "      <th>I131 treatment</th>\n",
       "      <th>query hypothyroid</th>\n",
       "      <th>query hyperthyroid</th>\n",
       "      <th>lithium</th>\n",
       "      <th>goitre</th>\n",
       "      <th>tumor</th>\n",
       "      <th>hypopituitary</th>\n",
       "      <th>psych</th>\n",
       "      <th>...</th>\n",
       "      <th>T3</th>\n",
       "      <th>TT4 measured</th>\n",
       "      <th>TT4</th>\n",
       "      <th>T4U measured</th>\n",
       "      <th>T4U</th>\n",
       "      <th>FTI measured</th>\n",
       "      <th>FTI</th>\n",
       "      <th>TBG measured</th>\n",
       "      <th>TBG</th>\n",
       "      <th>referral source</th>\n",
       "    </tr>\n",
       "  </thead>\n",
       "  <tbody>\n",
       "    <tr>\n",
       "      <th>0</th>\n",
       "      <td>f</td>\n",
       "      <td>f</td>\n",
       "      <td>f</td>\n",
       "      <td>t</td>\n",
       "      <td>f</td>\n",
       "      <td>f</td>\n",
       "      <td>f</td>\n",
       "      <td>f</td>\n",
       "      <td>f</td>\n",
       "      <td>f</td>\n",
       "      <td>...</td>\n",
       "      <td>NaN</td>\n",
       "      <td>f</td>\n",
       "      <td>NaN</td>\n",
       "      <td>f</td>\n",
       "      <td>NaN</td>\n",
       "      <td>f</td>\n",
       "      <td>NaN</td>\n",
       "      <td>f</td>\n",
       "      <td>NaN</td>\n",
       "      <td>other</td>\n",
       "    </tr>\n",
       "    <tr>\n",
       "      <th>1</th>\n",
       "      <td>f</td>\n",
       "      <td>f</td>\n",
       "      <td>f</td>\n",
       "      <td>f</td>\n",
       "      <td>f</td>\n",
       "      <td>f</td>\n",
       "      <td>f</td>\n",
       "      <td>f</td>\n",
       "      <td>f</td>\n",
       "      <td>f</td>\n",
       "      <td>...</td>\n",
       "      <td>1.9</td>\n",
       "      <td>t</td>\n",
       "      <td>128</td>\n",
       "      <td>f</td>\n",
       "      <td>NaN</td>\n",
       "      <td>f</td>\n",
       "      <td>NaN</td>\n",
       "      <td>f</td>\n",
       "      <td>NaN</td>\n",
       "      <td>other</td>\n",
       "    </tr>\n",
       "    <tr>\n",
       "      <th>2</th>\n",
       "      <td>f</td>\n",
       "      <td>f</td>\n",
       "      <td>f</td>\n",
       "      <td>f</td>\n",
       "      <td>t</td>\n",
       "      <td>f</td>\n",
       "      <td>f</td>\n",
       "      <td>f</td>\n",
       "      <td>f</td>\n",
       "      <td>f</td>\n",
       "      <td>...</td>\n",
       "      <td>NaN</td>\n",
       "      <td>f</td>\n",
       "      <td>NaN</td>\n",
       "      <td>f</td>\n",
       "      <td>NaN</td>\n",
       "      <td>f</td>\n",
       "      <td>NaN</td>\n",
       "      <td>t</td>\n",
       "      <td>11</td>\n",
       "      <td>other</td>\n",
       "    </tr>\n",
       "    <tr>\n",
       "      <th>3</th>\n",
       "      <td>f</td>\n",
       "      <td>f</td>\n",
       "      <td>f</td>\n",
       "      <td>f</td>\n",
       "      <td>f</td>\n",
       "      <td>f</td>\n",
       "      <td>f</td>\n",
       "      <td>f</td>\n",
       "      <td>f</td>\n",
       "      <td>f</td>\n",
       "      <td>...</td>\n",
       "      <td>NaN</td>\n",
       "      <td>f</td>\n",
       "      <td>NaN</td>\n",
       "      <td>f</td>\n",
       "      <td>NaN</td>\n",
       "      <td>f</td>\n",
       "      <td>NaN</td>\n",
       "      <td>t</td>\n",
       "      <td>26</td>\n",
       "      <td>other</td>\n",
       "    </tr>\n",
       "    <tr>\n",
       "      <th>4</th>\n",
       "      <td>f</td>\n",
       "      <td>f</td>\n",
       "      <td>f</td>\n",
       "      <td>f</td>\n",
       "      <td>f</td>\n",
       "      <td>f</td>\n",
       "      <td>f</td>\n",
       "      <td>f</td>\n",
       "      <td>f</td>\n",
       "      <td>f</td>\n",
       "      <td>...</td>\n",
       "      <td>NaN</td>\n",
       "      <td>f</td>\n",
       "      <td>NaN</td>\n",
       "      <td>f</td>\n",
       "      <td>NaN</td>\n",
       "      <td>f</td>\n",
       "      <td>NaN</td>\n",
       "      <td>t</td>\n",
       "      <td>36</td>\n",
       "      <td>other</td>\n",
       "    </tr>\n",
       "    <tr>\n",
       "      <th>...</th>\n",
       "      <td>...</td>\n",
       "      <td>...</td>\n",
       "      <td>...</td>\n",
       "      <td>...</td>\n",
       "      <td>...</td>\n",
       "      <td>...</td>\n",
       "      <td>...</td>\n",
       "      <td>...</td>\n",
       "      <td>...</td>\n",
       "      <td>...</td>\n",
       "      <td>...</td>\n",
       "      <td>...</td>\n",
       "      <td>...</td>\n",
       "      <td>...</td>\n",
       "      <td>...</td>\n",
       "      <td>...</td>\n",
       "      <td>...</td>\n",
       "      <td>...</td>\n",
       "      <td>...</td>\n",
       "      <td>...</td>\n",
       "      <td>...</td>\n",
       "    </tr>\n",
       "    <tr>\n",
       "      <th>9167</th>\n",
       "      <td>f</td>\n",
       "      <td>f</td>\n",
       "      <td>f</td>\n",
       "      <td>f</td>\n",
       "      <td>t</td>\n",
       "      <td>f</td>\n",
       "      <td>f</td>\n",
       "      <td>f</td>\n",
       "      <td>f</td>\n",
       "      <td>f</td>\n",
       "      <td>...</td>\n",
       "      <td>NaN</td>\n",
       "      <td>t</td>\n",
       "      <td>64</td>\n",
       "      <td>t</td>\n",
       "      <td>0.83</td>\n",
       "      <td>t</td>\n",
       "      <td>77</td>\n",
       "      <td>f</td>\n",
       "      <td>NaN</td>\n",
       "      <td>SVI</td>\n",
       "    </tr>\n",
       "    <tr>\n",
       "      <th>9168</th>\n",
       "      <td>f</td>\n",
       "      <td>f</td>\n",
       "      <td>f</td>\n",
       "      <td>f</td>\n",
       "      <td>f</td>\n",
       "      <td>f</td>\n",
       "      <td>f</td>\n",
       "      <td>f</td>\n",
       "      <td>f</td>\n",
       "      <td>f</td>\n",
       "      <td>...</td>\n",
       "      <td>NaN</td>\n",
       "      <td>t</td>\n",
       "      <td>91</td>\n",
       "      <td>t</td>\n",
       "      <td>0.92</td>\n",
       "      <td>t</td>\n",
       "      <td>99</td>\n",
       "      <td>f</td>\n",
       "      <td>NaN</td>\n",
       "      <td>SVI</td>\n",
       "    </tr>\n",
       "    <tr>\n",
       "      <th>9169</th>\n",
       "      <td>f</td>\n",
       "      <td>f</td>\n",
       "      <td>f</td>\n",
       "      <td>f</td>\n",
       "      <td>f</td>\n",
       "      <td>f</td>\n",
       "      <td>f</td>\n",
       "      <td>f</td>\n",
       "      <td>f</td>\n",
       "      <td>f</td>\n",
       "      <td>...</td>\n",
       "      <td>NaN</td>\n",
       "      <td>t</td>\n",
       "      <td>113</td>\n",
       "      <td>t</td>\n",
       "      <td>1.27</td>\n",
       "      <td>t</td>\n",
       "      <td>89</td>\n",
       "      <td>f</td>\n",
       "      <td>NaN</td>\n",
       "      <td>SVI</td>\n",
       "    </tr>\n",
       "    <tr>\n",
       "      <th>9170</th>\n",
       "      <td>f</td>\n",
       "      <td>f</td>\n",
       "      <td>f</td>\n",
       "      <td>f</td>\n",
       "      <td>f</td>\n",
       "      <td>f</td>\n",
       "      <td>f</td>\n",
       "      <td>f</td>\n",
       "      <td>f</td>\n",
       "      <td>f</td>\n",
       "      <td>...</td>\n",
       "      <td>NaN</td>\n",
       "      <td>t</td>\n",
       "      <td>75</td>\n",
       "      <td>t</td>\n",
       "      <td>0.85</td>\n",
       "      <td>t</td>\n",
       "      <td>88</td>\n",
       "      <td>f</td>\n",
       "      <td>NaN</td>\n",
       "      <td>other</td>\n",
       "    </tr>\n",
       "    <tr>\n",
       "      <th>9171</th>\n",
       "      <td>f</td>\n",
       "      <td>f</td>\n",
       "      <td>f</td>\n",
       "      <td>t</td>\n",
       "      <td>f</td>\n",
       "      <td>f</td>\n",
       "      <td>f</td>\n",
       "      <td>f</td>\n",
       "      <td>f</td>\n",
       "      <td>f</td>\n",
       "      <td>...</td>\n",
       "      <td>NaN</td>\n",
       "      <td>t</td>\n",
       "      <td>66</td>\n",
       "      <td>t</td>\n",
       "      <td>1.02</td>\n",
       "      <td>t</td>\n",
       "      <td>65</td>\n",
       "      <td>f</td>\n",
       "      <td>NaN</td>\n",
       "      <td>other</td>\n",
       "    </tr>\n",
       "  </tbody>\n",
       "</table>\n",
       "<p>9172 rows × 22 columns</p>\n",
       "</div>"
      ],
      "text/plain": [
       "     pregnant thyroid surgery I131 treatment query hypothyroid  \\\n",
       "0           f               f              f                 t   \n",
       "1           f               f              f                 f   \n",
       "2           f               f              f                 f   \n",
       "3           f               f              f                 f   \n",
       "4           f               f              f                 f   \n",
       "...       ...             ...            ...               ...   \n",
       "9167        f               f              f                 f   \n",
       "9168        f               f              f                 f   \n",
       "9169        f               f              f                 f   \n",
       "9170        f               f              f                 f   \n",
       "9171        f               f              f                 t   \n",
       "\n",
       "     query hyperthyroid lithium goitre tumor hypopituitary psych  ...   T3  \\\n",
       "0                     f       f      f     f             f     f  ...  NaN   \n",
       "1                     f       f      f     f             f     f  ...  1.9   \n",
       "2                     t       f      f     f             f     f  ...  NaN   \n",
       "3                     f       f      f     f             f     f  ...  NaN   \n",
       "4                     f       f      f     f             f     f  ...  NaN   \n",
       "...                 ...     ...    ...   ...           ...   ...  ...  ...   \n",
       "9167                  t       f      f     f             f     f  ...  NaN   \n",
       "9168                  f       f      f     f             f     f  ...  NaN   \n",
       "9169                  f       f      f     f             f     f  ...  NaN   \n",
       "9170                  f       f      f     f             f     f  ...  NaN   \n",
       "9171                  f       f      f     f             f     f  ...  NaN   \n",
       "\n",
       "     TT4 measured  TT4 T4U measured   T4U FTI measured  FTI TBG measured  TBG  \\\n",
       "0               f  NaN            f   NaN            f  NaN            f  NaN   \n",
       "1               t  128            f   NaN            f  NaN            f  NaN   \n",
       "2               f  NaN            f   NaN            f  NaN            t   11   \n",
       "3               f  NaN            f   NaN            f  NaN            t   26   \n",
       "4               f  NaN            f   NaN            f  NaN            t   36   \n",
       "...           ...  ...          ...   ...          ...  ...          ...  ...   \n",
       "9167            t   64            t  0.83            t   77            f  NaN   \n",
       "9168            t   91            t  0.92            t   99            f  NaN   \n",
       "9169            t  113            t  1.27            t   89            f  NaN   \n",
       "9170            t   75            t  0.85            t   88            f  NaN   \n",
       "9171            t   66            t  1.02            t   65            f  NaN   \n",
       "\n",
       "     referral source  \n",
       "0              other  \n",
       "1              other  \n",
       "2              other  \n",
       "3              other  \n",
       "4              other  \n",
       "...              ...  \n",
       "9167             SVI  \n",
       "9168             SVI  \n",
       "9169             SVI  \n",
       "9170           other  \n",
       "9171           other  \n",
       "\n",
       "[9172 rows x 22 columns]"
      ]
     },
     "execution_count": 87,
     "metadata": {},
     "output_type": "execute_result"
    }
   ],
   "source": [
    "#28\n",
    "df1=df.select_dtypes(include=['object'])\n",
    "df1"
   ]
  },
  {
   "cell_type": "code",
   "execution_count": 88,
   "id": "weighted-nitrogen",
   "metadata": {},
   "outputs": [
    {
     "name": "stdout",
     "output_type": "stream",
     "text": [
      "<class 'pandas.core.frame.DataFrame'>\n",
      "RangeIndex: 9172 entries, 0 to 9171\n",
      "Data columns (total 22 columns):\n",
      " #   Column              Non-Null Count  Dtype \n",
      "---  ------              --------------  ----- \n",
      " 0   pregnant            9172 non-null   object\n",
      " 1   thyroid surgery     9172 non-null   object\n",
      " 2   I131 treatment      9172 non-null   object\n",
      " 3   query hypothyroid   9172 non-null   object\n",
      " 4   query hyperthyroid  9172 non-null   object\n",
      " 5   lithium             9172 non-null   object\n",
      " 6   goitre              9172 non-null   object\n",
      " 7   tumor               9172 non-null   object\n",
      " 8   hypopituitary       9172 non-null   object\n",
      " 9   psych               9172 non-null   object\n",
      " 10  TSH measured        9172 non-null   object\n",
      " 11  T3 measured         9172 non-null   object\n",
      " 12  T3                  6568 non-null   object\n",
      " 13  TT4 measured        9172 non-null   object\n",
      " 14  TT4                 8730 non-null   object\n",
      " 15  T4U measured        9172 non-null   object\n",
      " 16  T4U                 8363 non-null   object\n",
      " 17  FTI measured        9172 non-null   object\n",
      " 18  FTI                 8370 non-null   object\n",
      " 19  TBG measured        9172 non-null   object\n",
      " 20  TBG                 349 non-null    object\n",
      " 21  referral source     9172 non-null   object\n",
      "dtypes: object(22)\n",
      "memory usage: 1.5+ MB\n"
     ]
    }
   ],
   "source": [
    "df1.info()"
   ]
  },
  {
   "cell_type": "code",
   "execution_count": 44,
   "id": "advisory-culture",
   "metadata": {},
   "outputs": [
    {
     "name": "stdout",
     "output_type": "stream",
     "text": [
      "<class 'pandas.core.frame.DataFrame'>\n",
      "RangeIndex: 9172 entries, 0 to 9171\n",
      "Data columns (total 28 columns):\n",
      " #   Column                     Non-Null Count  Dtype  \n",
      "---  ------                     --------------  -----  \n",
      " 0   age                        9172 non-null   int64  \n",
      " 1   sex                        9172 non-null   int64  \n",
      " 2   on antithyroid medication  9172 non-null   int64  \n",
      " 3   sick                       9172 non-null   int64  \n",
      " 4   pregnant                   9172 non-null   object \n",
      " 5   thyroid surgery            9172 non-null   object \n",
      " 6   I131 treatment             9172 non-null   object \n",
      " 7   query hypothyroid          9172 non-null   object \n",
      " 8   query hyperthyroid         9172 non-null   object \n",
      " 9   lithium                    9172 non-null   object \n",
      " 10  goitre                     9172 non-null   object \n",
      " 11  tumor                      9172 non-null   object \n",
      " 12  hypopituitary              9172 non-null   object \n",
      " 13  psych                      9172 non-null   object \n",
      " 14  TSH measured               9172 non-null   object \n",
      " 15  TSH                        9172 non-null   float64\n",
      " 16  T3 measured                9172 non-null   object \n",
      " 17  T3                         6568 non-null   object \n",
      " 18  TT4 measured               9172 non-null   object \n",
      " 19  TT4                        8730 non-null   object \n",
      " 20  T4U measured               9172 non-null   object \n",
      " 21  T4U                        8363 non-null   object \n",
      " 22  FTI measured               9172 non-null   object \n",
      " 23  FTI                        8370 non-null   object \n",
      " 24  TBG measured               9172 non-null   object \n",
      " 25  TBG                        349 non-null    object \n",
      " 26  referral source            9172 non-null   object \n",
      " 27  y                          9172 non-null   int64  \n",
      "dtypes: float64(1), int64(5), object(22)\n",
      "memory usage: 2.0+ MB\n"
     ]
    }
   ],
   "source": [
    "df.info()"
   ]
  }
 ],
 "metadata": {
  "kernelspec": {
   "display_name": "Python 3",
   "language": "python",
   "name": "python3"
  },
  "language_info": {
   "codemirror_mode": {
    "name": "ipython",
    "version": 3
   },
   "file_extension": ".py",
   "mimetype": "text/x-python",
   "name": "python",
   "nbconvert_exporter": "python",
   "pygments_lexer": "ipython3",
   "version": "3.9.1"
  }
 },
 "nbformat": 4,
 "nbformat_minor": 5
}
